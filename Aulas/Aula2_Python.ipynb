{
 "cells": [
  {
   "cell_type": "markdown",
   "id": "a070aff3",
   "metadata": {
    "slideshow": {
     "slide_type": "slide"
    }
   },
   "source": [
    "# Aula 2 - Iniciando no Python"
   ]
  },
  {
   "cell_type": "markdown",
   "id": "031e3312",
   "metadata": {
    "slideshow": {
     "slide_type": "slide"
    }
   },
   "source": [
    "Antes de começarmos, vamos entender como abrir o arquivo que irei utilizar nesta aula no Google Colab:\n",
    "\n",
    "1. acessar: https://github.com/LuizaPS/MinicursoPython_AbmGeo [encaminharei via chat]\n",
    "2. clicar no símbolo do Google Colab ao lado da Aula 2, na descrição do repositório."
   ]
  },
  {
   "cell_type": "markdown",
   "id": "085edf5c",
   "metadata": {
    "slideshow": {
     "slide_type": "slide"
    }
   },
   "source": [
    "O que vamos aprender nesta aula?\n",
    "\n",
    "- tipos de variáveis\n",
    "- operadores básicos\n",
    "- tipos de estruturas de dados\n",
    "- estruturas de repetição (loops) e desvios condicionais (statements)"
   ]
  },
  {
   "cell_type": "markdown",
   "id": "6cf176e8",
   "metadata": {
    "slideshow": {
     "slide_type": "subslide"
    }
   },
   "source": [
    "Sugestões:\n",
    "\n",
    "- muitas informações;\n",
    "- anotem dúvidas (que surgirão);\n",
    "- revejam este material no dia seguinte à aula;\n",
    "- pratiquem;\n",
    "- consultem materiais sugeridos;\n",
    "\n",
    "Pratiquem (de novo):\n",
    "\n",
    "- desenvolvimento em programação ocorrerá com prática;\n",
    "- dúvidas? pesquisem e perguntem."
   ]
  },
  {
   "cell_type": "markdown",
   "id": "d3815642",
   "metadata": {
    "slideshow": {
     "slide_type": "subslide"
    }
   },
   "source": [
    "Material de apoio para esta aula:\n",
    "\n",
    "- Documentação do python possui um tutorial bem interessante: https://docs.python.org/pt-br/3.7/tutorial/\n",
    "- Convenção de nomes de variáveis e boas normas de programação: https://www.python.org/dev/peps/pep-0008/#naming-conventions\n",
    "- Material sobre estruturas de dados: https://docs.python.org/3/tutorial/datastructures.html"
   ]
  },
  {
   "cell_type": "markdown",
   "id": "bcc4e208",
   "metadata": {
    "slideshow": {
     "slide_type": "slide"
    }
   },
   "source": [
    "# IPython, o que é?\n",
    "\n",
    "Python é um interpretador interativo para a linguagem Python!\n",
    "\n",
    "É mais interativo em comparação com o interpretador padrão.\n",
    "\n",
    "No terminal:\n",
    "\n",
    "Para acessar o interpretador Python padrão, digite python e obterá o prompt `>>>` de onde poderá trabalhar.\n",
    "\n",
    "Para obter o interpretador IPython, você precisa instalá-lo primeiro. `pip install` o `ipython`. Você digita ipython e obtém `In [1]:` como um prompt e obtém `In [2]:` para o próximo comando."
   ]
  },
  {
   "cell_type": "markdown",
   "id": "227dfb05",
   "metadata": {
    "slideshow": {
     "slide_type": "slide"
    }
   },
   "source": [
    "## Linha de comando\n",
    "\n",
    "A linha de comando do python é indicada por `>>>`\n",
    "\n",
    "No ipython vamos ter celulas indicas por `In [ ]:`\n"
   ]
  },
  {
   "cell_type": "code",
   "execution_count": null,
   "id": "b02ceccf",
   "metadata": {
    "slideshow": {
     "slide_type": "fragment"
    }
   },
   "outputs": [],
   "source": []
  },
  {
   "cell_type": "markdown",
   "id": "d7ddc785",
   "metadata": {
    "slideshow": {
     "slide_type": "slide"
    }
   },
   "source": [
    "## print\n",
    "\n",
    "Vamos executar um _print_ para imprimir uma messagem na tela\n",
    "\n",
    "O resultado da execução deve sair logo abaixo:"
   ]
  },
  {
   "cell_type": "code",
   "execution_count": 1,
   "id": "e8342523",
   "metadata": {
    "slideshow": {
     "slide_type": "fragment"
    }
   },
   "outputs": [
    {
     "name": "stdout",
     "output_type": "stream",
     "text": [
      "Hello, world\n"
     ]
    }
   ],
   "source": [
    "print('Hello, world')"
   ]
  },
  {
   "cell_type": "markdown",
   "id": "81683350",
   "metadata": {
    "slideshow": {
     "slide_type": "slide"
    }
   },
   "source": [
    "\n",
    "## Atribuição (assignment)\n",
    "\n",
    "- inserir um valor, qualquer, a uma variável"
   ]
  },
  {
   "cell_type": "code",
   "execution_count": 2,
   "id": "bfac1047",
   "metadata": {
    "slideshow": {
     "slide_type": "fragment"
    }
   },
   "outputs": [
    {
     "data": {
      "text/plain": [
       "100"
      ]
     },
     "execution_count": 2,
     "metadata": {},
     "output_type": "execute_result"
    }
   ],
   "source": [
    "x = 100\n",
    "x"
   ]
  },
  {
   "cell_type": "markdown",
   "id": "f77710be",
   "metadata": {
    "slideshow": {
     "slide_type": "slide"
    }
   },
   "source": [
    "## Comentários\n",
    "\n",
    "- documentar\n",
    "- facilitar\n",
    "- explicar"
   ]
  },
  {
   "cell_type": "code",
   "execution_count": 3,
   "id": "b3491cb3",
   "metadata": {
    "slideshow": {
     "slide_type": "fragment"
    }
   },
   "outputs": [],
   "source": [
    "# isso indica o início de um comentário, portanto não será compilado pelo python"
   ]
  },
  {
   "cell_type": "markdown",
   "id": "74dd126b",
   "metadata": {
    "slideshow": {
     "slide_type": "slide"
    }
   },
   "source": [
    "## Variáveis\n",
    "\n",
    "Variável é o nome que damos a uma valor/infromação.\n",
    "Quando chamamos o nome, o computador retorna o que esta guardado nessa variável."
   ]
  },
  {
   "cell_type": "code",
   "execution_count": 4,
   "id": "987880d1",
   "metadata": {
    "slideshow": {
     "slide_type": "fragment"
    }
   },
   "outputs": [],
   "source": [
    "linguagem = 'python'"
   ]
  },
  {
   "cell_type": "code",
   "execution_count": 5,
   "id": "0663c9a1",
   "metadata": {
    "slideshow": {
     "slide_type": "fragment"
    }
   },
   "outputs": [
    {
     "data": {
      "text/plain": [
       "'python'"
      ]
     },
     "execution_count": 5,
     "metadata": {},
     "output_type": "execute_result"
    }
   ],
   "source": [
    "linguagem"
   ]
  },
  {
   "cell_type": "markdown",
   "id": "86da02fb",
   "metadata": {
    "slideshow": {
     "slide_type": "slide"
    }
   },
   "source": [
    "\n",
    "### Tipos de variáveis\n",
    "\n",
    "- int (integer): valores numérics inteiros\n",
    "\n",
    "- float: valores numéricos decimais\n",
    "\n",
    "- str: (string): valores textuais (devem estar entre aspas, simples ou duplas)\n",
    "\n",
    "- bool (boolean): valores binários (True/False ou 1/0)\n",
    "\n",
    "- complex: números complexos\n"
   ]
  },
  {
   "cell_type": "code",
   "execution_count": 6,
   "id": "48265503",
   "metadata": {
    "slideshow": {
     "slide_type": "subslide"
    }
   },
   "outputs": [
    {
     "name": "stdout",
     "output_type": "stream",
     "text": [
      "100\n"
     ]
    },
    {
     "data": {
      "text/plain": [
       "int"
      ]
     },
     "execution_count": 6,
     "metadata": {},
     "output_type": "execute_result"
    }
   ],
   "source": [
    "# tudo que vem depois do é um comentário e não \n",
    "# é processado pelo python\n",
    "\n",
    "# integer\n",
    "x = 100\n",
    "\n",
    "# para visualizar o que é a variável, use o print\n",
    "print(x)\n",
    "type(x)"
   ]
  },
  {
   "cell_type": "code",
   "execution_count": 7,
   "id": "e7ee5910",
   "metadata": {
    "slideshow": {
     "slide_type": "subslide"
    }
   },
   "outputs": [
    {
     "name": "stdout",
     "output_type": "stream",
     "text": [
      "3.14\n"
     ]
    },
    {
     "data": {
      "text/plain": [
       "float"
      ]
     },
     "execution_count": 7,
     "metadata": {},
     "output_type": "execute_result"
    }
   ],
   "source": [
    "# float\n",
    "# use o ponto no lugar da vírgula\n",
    "pi = 3.14\n",
    "\n",
    "print(pi)\n",
    "type(pi)"
   ]
  },
  {
   "cell_type": "code",
   "execution_count": 8,
   "id": "73a4837e",
   "metadata": {
    "scrolled": true,
    "slideshow": {
     "slide_type": "subslide"
    }
   },
   "outputs": [
    {
     "name": "stdout",
     "output_type": "stream",
     "text": [
      "3.14\n"
     ]
    },
    {
     "data": {
      "text/plain": [
       "str"
      ]
     },
     "execution_count": 8,
     "metadata": {},
     "output_type": "execute_result"
    }
   ],
   "source": [
    "# string\n",
    "# compreende todos os caracteres dentro de aspas simples ou duplas\n",
    "texto1 = '3.14'\n",
    "\n",
    "print(texto1)\n",
    "type(texto1)"
   ]
  },
  {
   "cell_type": "code",
   "execution_count": 9,
   "id": "42495bbb",
   "metadata": {
    "slideshow": {
     "slide_type": "subslide"
    }
   },
   "outputs": [
    {
     "name": "stdout",
     "output_type": "stream",
     "text": [
      "(1+0j)\n"
     ]
    },
    {
     "data": {
      "text/plain": [
       "complex"
      ]
     },
     "execution_count": 9,
     "metadata": {},
     "output_type": "execute_result"
    }
   ],
   "source": [
    "# complex\n",
    "# São representados por dois numeros de ponto flutuante\n",
    "# Um para a parte real e um para a parte imaginaria com o j\n",
    "complexo = 1.0 + 0j\n",
    "\n",
    "print(complexo)\n",
    "type(complexo)"
   ]
  },
  {
   "cell_type": "code",
   "execution_count": 10,
   "id": "220d6bee",
   "metadata": {
    "slideshow": {
     "slide_type": "subslide"
    }
   },
   "outputs": [
    {
     "name": "stdout",
     "output_type": "stream",
     "text": [
      "False\n"
     ]
    },
    {
     "data": {
      "text/plain": [
       "bool"
      ]
     },
     "execution_count": 10,
     "metadata": {},
     "output_type": "execute_result"
    }
   ],
   "source": [
    "# boolean\n",
    "boolean_true = True\n",
    "boolean_false = False\n",
    "\n",
    "print(boolean_false)\n",
    "type(boolean_false)"
   ]
  },
  {
   "cell_type": "markdown",
   "id": "1705913d",
   "metadata": {
    "slideshow": {
     "slide_type": "slide"
    }
   },
   "source": [
    "### Regrinhas e Recomendações:\n",
    "\n",
    "- Para nomerar as variáveis podem ser usados numeros, letrar e/ou _ , nunca deve começar com numero\n",
    "- Não podemos usar palavras reservadas, naturais do Python para nomear as variáveis\n",
    "- Booleano começa sempre com a primeira letra maiúscula (True/False)\n",
    "- Das opções, qual indica melhor o que significa a variável?\n",
    "\n",
    "`x = 3.14`\n",
    "\n",
    "`pi = 3.14`"
   ]
  },
  {
   "cell_type": "markdown",
   "id": "9ca2bc54",
   "metadata": {
    "slideshow": {
     "slide_type": "slide"
    }
   },
   "source": [
    "\n",
    "### Palavras reservadas\n",
    "\n",
    "Existem palavras reservadas no python, que são usadas pela linguagem de programação durante o processamento do código. Exemplos:\n",
    "\n",
    "\n",
    "|   and  |  assert | break | class | continue |\n",
    "|:------:|:-------:|:-----:|:-----:|:--------:|\n",
    "| def    | del     | elif  | else  | except   |\n",
    "| exec   | finally | for   | from  | global   |\n",
    "| if     | import  | in    | is    | lambda   |\n",
    "| not    | or      | pass  | print | raise    |\n",
    "| return | try     | while | enumerate|          |\n"
   ]
  },
  {
   "cell_type": "markdown",
   "id": "619683d9",
   "metadata": {
    "slideshow": {
     "slide_type": "subslide"
    }
   },
   "source": [
    "#### Outro grupo de palavras a não serem usadas como \n",
    "\n",
    "|   data  |  float | int | numeric | array ||\n",
    "|:------:|:-------:|:-----:|:-----:|:--------:||\n",
    "| array   | open | range   | type  | write   | zeros |\n",
    "\n",
    "A razão destas palavras é que elas representam funções nativas do python, isto é, possuem uma aplicação específica. Veremos ao longo do curso diversos exemplos."
   ]
  },
  {
   "cell_type": "markdown",
   "id": "12d3bda0",
   "metadata": {
    "slideshow": {
     "slide_type": "slide"
    }
   },
   "source": [
    "Lista completa de palavras-chaves do python:"
   ]
  },
  {
   "cell_type": "code",
   "execution_count": 11,
   "id": "d8cbec3e",
   "metadata": {
    "slideshow": {
     "slide_type": "fragment"
    }
   },
   "outputs": [
    {
     "name": "stdout",
     "output_type": "stream",
     "text": [
      "['False', 'None', 'True', 'and', 'as', 'assert', 'async', 'await', 'break', 'class', 'continue', 'def', 'del', 'elif', 'else', 'except', 'finally', 'for', 'from', 'global', 'if', 'import', 'in', 'is', 'lambda', 'nonlocal', 'not', 'or', 'pass', 'raise', 'return', 'try', 'while', 'with', 'yield']\n"
     ]
    }
   ],
   "source": [
    "import keyword\n",
    "print(keyword.kwlist)"
   ]
  },
  {
   "cell_type": "markdown",
   "id": "60625877",
   "metadata": {
    "slideshow": {
     "slide_type": "fragment"
    }
   },
   "source": [
    "Sugestão de leitura para entender a convenção dos nomes das variáveis:\n",
    "\n",
    "https://www.python.org/dev/peps/pep-0008/#naming-conventions"
   ]
  },
  {
   "cell_type": "markdown",
   "id": "38b5626b",
   "metadata": {
    "slideshow": {
     "slide_type": "slide"
    }
   },
   "source": [
    "### Palavras reservadas - exemplos práticos"
   ]
  },
  {
   "cell_type": "code",
   "execution_count": 12,
   "id": "e0fe89a0",
   "metadata": {
    "slideshow": {
     "slide_type": "fragment"
    }
   },
   "outputs": [
    {
     "ename": "SyntaxError",
     "evalue": "cannot assign to True (<ipython-input-12-07145b54629c>, line 1)",
     "output_type": "error",
     "traceback": [
      "\u001b[0;36m  File \u001b[0;32m\"<ipython-input-12-07145b54629c>\"\u001b[0;36m, line \u001b[0;32m1\u001b[0m\n\u001b[0;31m    True = 'variavel'\u001b[0m\n\u001b[0m    ^\u001b[0m\n\u001b[0;31mSyntaxError\u001b[0m\u001b[0;31m:\u001b[0m cannot assign to True\n"
     ]
    }
   ],
   "source": [
    "True = 'variavel'"
   ]
  },
  {
   "cell_type": "code",
   "execution_count": 13,
   "id": "3b802202",
   "metadata": {
    "slideshow": {
     "slide_type": "fragment"
    }
   },
   "outputs": [
    {
     "ename": "SyntaxError",
     "evalue": "invalid syntax (<ipython-input-13-e8816e418cbd>, line 1)",
     "output_type": "error",
     "traceback": [
      "\u001b[0;36m  File \u001b[0;32m\"<ipython-input-13-e8816e418cbd>\"\u001b[0;36m, line \u001b[0;32m1\u001b[0m\n\u001b[0;31m    if = 'senao'\u001b[0m\n\u001b[0m       ^\u001b[0m\n\u001b[0;31mSyntaxError\u001b[0m\u001b[0;31m:\u001b[0m invalid syntax\n"
     ]
    }
   ],
   "source": [
    "if = 'senao'"
   ]
  },
  {
   "cell_type": "code",
   "execution_count": 14,
   "id": "d302d1ca",
   "metadata": {
    "slideshow": {
     "slide_type": "fragment"
    }
   },
   "outputs": [
    {
     "name": "stdout",
     "output_type": "stream",
     "text": [
      "variavel\n"
     ]
    }
   ],
   "source": [
    "true = 'variavel'\n",
    "print(true)"
   ]
  },
  {
   "cell_type": "code",
   "execution_count": 15,
   "id": "3841ab41",
   "metadata": {
    "slideshow": {
     "slide_type": "skip"
    }
   },
   "outputs": [],
   "source": [
    "del true"
   ]
  },
  {
   "cell_type": "markdown",
   "id": "282dffcd",
   "metadata": {
    "slideshow": {
     "slide_type": "slide"
    }
   },
   "source": [
    "Exercício:\n",
    "Um pouco de mão na massa!\n",
    "\n",
    "Teste as seguintes variáveis:"
   ]
  },
  {
   "cell_type": "code",
   "execution_count": 16,
   "id": "ccec4981",
   "metadata": {
    "slideshow": {
     "slide_type": "fragment"
    }
   },
   "outputs": [],
   "source": [
    "curso = 'Python'\n",
    "nalunas = 20\n",
    "nota = 8.9\n",
    "a = True"
   ]
  },
  {
   "cell_type": "markdown",
   "id": "07b68c61",
   "metadata": {
    "slideshow": {
     "slide_type": "fragment"
    }
   },
   "source": [
    "De que tipo são essas variavéis?"
   ]
  },
  {
   "cell_type": "code",
   "execution_count": 17,
   "id": "e1816e17",
   "metadata": {
    "slideshow": {
     "slide_type": "subslide"
    }
   },
   "outputs": [
    {
     "data": {
      "text/plain": [
       "str"
      ]
     },
     "execution_count": 17,
     "metadata": {},
     "output_type": "execute_result"
    }
   ],
   "source": [
    "type(curso)"
   ]
  },
  {
   "cell_type": "code",
   "execution_count": 18,
   "id": "2b9a73be",
   "metadata": {
    "slideshow": {
     "slide_type": "fragment"
    }
   },
   "outputs": [
    {
     "data": {
      "text/plain": [
       "int"
      ]
     },
     "execution_count": 18,
     "metadata": {},
     "output_type": "execute_result"
    }
   ],
   "source": [
    "type(nalunas)"
   ]
  },
  {
   "cell_type": "code",
   "execution_count": 19,
   "id": "2b38bb50",
   "metadata": {
    "slideshow": {
     "slide_type": "fragment"
    }
   },
   "outputs": [
    {
     "data": {
      "text/plain": [
       "float"
      ]
     },
     "execution_count": 19,
     "metadata": {},
     "output_type": "execute_result"
    }
   ],
   "source": [
    "type(nota)"
   ]
  },
  {
   "cell_type": "code",
   "execution_count": 20,
   "id": "2dbb11cd",
   "metadata": {
    "slideshow": {
     "slide_type": "fragment"
    }
   },
   "outputs": [
    {
     "data": {
      "text/plain": [
       "bool"
      ]
     },
     "execution_count": 20,
     "metadata": {},
     "output_type": "execute_result"
    }
   ],
   "source": [
    "type(a)"
   ]
  },
  {
   "cell_type": "markdown",
   "id": "c5672351",
   "metadata": {
    "slideshow": {
     "slide_type": "subslide"
    }
   },
   "source": [
    "Tente **a = true**\n",
    "\n",
    "O que aconteceu?"
   ]
  },
  {
   "cell_type": "code",
   "execution_count": 21,
   "id": "4665406e",
   "metadata": {
    "slideshow": {
     "slide_type": "fragment"
    }
   },
   "outputs": [
    {
     "ename": "NameError",
     "evalue": "name 'true' is not defined",
     "output_type": "error",
     "traceback": [
      "\u001b[0;31m---------------------------------------------------------------------------\u001b[0m",
      "\u001b[0;31mNameError\u001b[0m                                 Traceback (most recent call last)",
      "\u001b[0;32m<ipython-input-21-c100e6034b0a>\u001b[0m in \u001b[0;36m<module>\u001b[0;34m\u001b[0m\n\u001b[0;32m----> 1\u001b[0;31m \u001b[0ma\u001b[0m \u001b[0;34m=\u001b[0m \u001b[0mtrue\u001b[0m\u001b[0;34m\u001b[0m\u001b[0;34m\u001b[0m\u001b[0m\n\u001b[0m",
      "\u001b[0;31mNameError\u001b[0m: name 'true' is not defined"
     ]
    }
   ],
   "source": [
    "a = true"
   ]
  },
  {
   "cell_type": "code",
   "execution_count": 22,
   "id": "763cfaa1",
   "metadata": {
    "slideshow": {
     "slide_type": "fragment"
    }
   },
   "outputs": [
    {
     "data": {
      "text/plain": [
       "bool"
      ]
     },
     "execution_count": 22,
     "metadata": {},
     "output_type": "execute_result"
    }
   ],
   "source": [
    "a = True\n",
    "type(a)"
   ]
  },
  {
   "cell_type": "markdown",
   "id": "763d0277",
   "metadata": {
    "slideshow": {
     "slide_type": "slide"
    }
   },
   "source": [
    "#### Atribuições múltiplas\n",
    "\n",
    "Definir diversas variáveis ao mesmo tempo"
   ]
  },
  {
   "cell_type": "code",
   "execution_count": 23,
   "id": "ad6b7af8",
   "metadata": {
    "slideshow": {
     "slide_type": "fragment"
    }
   },
   "outputs": [],
   "source": [
    "n1, n2, n3 = 'curso', 'de', 'python'"
   ]
  },
  {
   "cell_type": "code",
   "execution_count": 24,
   "id": "8a9c2aa7",
   "metadata": {
    "slideshow": {
     "slide_type": "fragment"
    }
   },
   "outputs": [
    {
     "data": {
      "text/plain": [
       "('curso', 'de', 'python')"
      ]
     },
     "execution_count": 24,
     "metadata": {},
     "output_type": "execute_result"
    }
   ],
   "source": [
    "n1, n2, n3"
   ]
  },
  {
   "cell_type": "markdown",
   "id": "1860ad96",
   "metadata": {
    "slideshow": {
     "slide_type": "slide"
    }
   },
   "source": [
    "Podemos também mudar o tipo de uma variável ao longo do nosso código.\n",
    "\n",
    "Basta usar os comandos:\n",
    "int()\n",
    "float()\n",
    "str()"
   ]
  },
  {
   "cell_type": "code",
   "execution_count": 25,
   "id": "b2ad8d2f",
   "metadata": {
    "slideshow": {
     "slide_type": "subslide"
    }
   },
   "outputs": [
    {
     "data": {
      "text/plain": [
       "int"
      ]
     },
     "execution_count": 25,
     "metadata": {},
     "output_type": "execute_result"
    }
   ],
   "source": [
    "type(nalunas)"
   ]
  },
  {
   "cell_type": "code",
   "execution_count": 26,
   "id": "0eafb092",
   "metadata": {
    "slideshow": {
     "slide_type": "fragment"
    }
   },
   "outputs": [
    {
     "name": "stdout",
     "output_type": "stream",
     "text": [
      "20.0\n"
     ]
    },
    {
     "data": {
      "text/plain": [
       "float"
      ]
     },
     "execution_count": 26,
     "metadata": {},
     "output_type": "execute_result"
    }
   ],
   "source": [
    "a = float(nalunas)\n",
    "print(a)\n",
    "type(a)"
   ]
  },
  {
   "cell_type": "code",
   "execution_count": 27,
   "id": "a4045125",
   "metadata": {
    "slideshow": {
     "slide_type": "fragment"
    }
   },
   "outputs": [
    {
     "name": "stdout",
     "output_type": "stream",
     "text": [
      "20.0\n"
     ]
    },
    {
     "data": {
      "text/plain": [
       "str"
      ]
     },
     "execution_count": 27,
     "metadata": {},
     "output_type": "execute_result"
    }
   ],
   "source": [
    "b = str(a)\n",
    "print(b)\n",
    "type(b)"
   ]
  },
  {
   "cell_type": "code",
   "execution_count": 28,
   "id": "ec222006",
   "metadata": {
    "slideshow": {
     "slide_type": "fragment"
    }
   },
   "outputs": [
    {
     "name": "stdout",
     "output_type": "stream",
     "text": [
      "20\n"
     ]
    },
    {
     "data": {
      "text/plain": [
       "int"
      ]
     },
     "execution_count": 28,
     "metadata": {},
     "output_type": "execute_result"
    }
   ],
   "source": [
    "c = int(a)\n",
    "print(c)\n",
    "type(c)"
   ]
  },
  {
   "cell_type": "markdown",
   "id": "2cfb6cb8",
   "metadata": {
    "slideshow": {
     "slide_type": "subslide"
    }
   },
   "source": [
    "Isso também serve para bool:"
   ]
  },
  {
   "cell_type": "code",
   "execution_count": 41,
   "id": "83e3048a",
   "metadata": {
    "slideshow": {
     "slide_type": "fragment"
    }
   },
   "outputs": [
    {
     "data": {
      "text/plain": [
       "False"
      ]
     },
     "execution_count": 41,
     "metadata": {},
     "output_type": "execute_result"
    }
   ],
   "source": [
    "bool(0)"
   ]
  },
  {
   "cell_type": "markdown",
   "id": "d7f09a44",
   "metadata": {
    "slideshow": {
     "slide_type": "slide"
    }
   },
   "source": [
    "# Opradores básicos\n",
    "\n",
    "Em python podemos fazer operações numéricas e lógicas.\n",
    "\n",
    "| Função | Símbolo |\n",
    "| --- | --- |\n",
    "| Adição | + |\n",
    "| Subtração | - |\n",
    "| Multiplicação | * |\n",
    "| Divisão | / |\n",
    "| Resto da divisão | % |\n",
    "| Potência | ** |\n",
    "\n",
    "- em algumas IDEs, não atribuir um nome à uma variável exibe o valor na tela"
   ]
  },
  {
   "cell_type": "markdown",
   "id": "5ad01d77",
   "metadata": {
    "slideshow": {
     "slide_type": "subslide"
    }
   },
   "source": [
    "- parênteses indica ordem das operações\n",
    "\n",
    "1. Parenteses\n",
    "2. Expoente\n",
    "3. Multiplicação\n",
    "4. Divisão\n",
    "5. Adição\n",
    "6. Subtração"
   ]
  },
  {
   "cell_type": "code",
   "execution_count": 30,
   "id": "e8005c69",
   "metadata": {
    "slideshow": {
     "slide_type": "slide"
    }
   },
   "outputs": [
    {
     "data": {
      "text/plain": [
       "6.28"
      ]
     },
     "execution_count": 30,
     "metadata": {},
     "output_type": "execute_result"
    }
   ],
   "source": [
    "# adição/subtração\n",
    "pi = 3.14\n",
    "\n",
    "pi + pi"
   ]
  },
  {
   "cell_type": "code",
   "execution_count": 31,
   "id": "2f006747",
   "metadata": {
    "slideshow": {
     "slide_type": "subslide"
    }
   },
   "outputs": [
    {
     "data": {
      "text/plain": [
       "6.28"
      ]
     },
     "execution_count": 31,
     "metadata": {},
     "output_type": "execute_result"
    }
   ],
   "source": [
    "# multiplicação/divisão\n",
    "2 * pi"
   ]
  },
  {
   "cell_type": "code",
   "execution_count": 32,
   "id": "5bda0bba",
   "metadata": {
    "slideshow": {
     "slide_type": "subslide"
    }
   },
   "outputs": [
    {
     "data": {
      "text/plain": [
       "2.5"
      ]
     },
     "execution_count": 32,
     "metadata": {},
     "output_type": "execute_result"
    }
   ],
   "source": [
    "# multiplicação/divisão\n",
    "5 / 2"
   ]
  },
  {
   "cell_type": "code",
   "execution_count": 33,
   "id": "2131f5fc",
   "metadata": {
    "slideshow": {
     "slide_type": "subslide"
    }
   },
   "outputs": [
    {
     "data": {
      "text/plain": [
       "1"
      ]
     },
     "execution_count": 33,
     "metadata": {},
     "output_type": "execute_result"
    }
   ],
   "source": [
    "# resto da divisão entre números inteiros\n",
    "5 % 2"
   ]
  },
  {
   "cell_type": "code",
   "execution_count": 34,
   "id": "8ebe0dab",
   "metadata": {
    "slideshow": {
     "slide_type": "subslide"
    }
   },
   "outputs": [
    {
     "data": {
      "text/plain": [
       "2.0"
      ]
     },
     "execution_count": 34,
     "metadata": {},
     "output_type": "execute_result"
    }
   ],
   "source": [
    "# podemos realizar operações com inteiros e decimais:\n",
    "x = 2\n",
    "\n",
    "x % pi"
   ]
  },
  {
   "cell_type": "code",
   "execution_count": 43,
   "id": "631b09b3",
   "metadata": {
    "slideshow": {
     "slide_type": "subslide"
    }
   },
   "outputs": [],
   "source": [
    "# um exemplo mais completo\n",
    "a = 3\n",
    "b = 5\n",
    "c = (a + b * b - b ** 2)/3\n",
    "# print(c)"
   ]
  },
  {
   "cell_type": "markdown",
   "id": "f1878f97",
   "metadata": {
    "slideshow": {
     "slide_type": "slide"
    }
   },
   "source": [
    "## Operadores lógicos ou relacionais\n",
    "\n",
    "São usados para fazer perguntas de resposta True ou False.\n",
    "\n",
    "| Função | Símbolo |\n",
    "| --- | --- |\n",
    "| Maior que | > |\n",
    "| Menor que | < |\n",
    "| Maior ou igual a | >= |\n",
    "| Menor ou igual a | <= |\n",
    "| Igual a | == |\n",
    "| Diferente de | != |\n",
    "| Não | not |\n",
    "| E | and (todas as condições precisão ser satisfeitas) |\n",
    "| Ou | or (apenas uma das condições precisa ser satisfeita) |"
   ]
  },
  {
   "cell_type": "code",
   "execution_count": 36,
   "id": "20913a33",
   "metadata": {
    "slideshow": {
     "slide_type": "slide"
    }
   },
   "outputs": [
    {
     "name": "stdout",
     "output_type": "stream",
     "text": [
      "3\n",
      "5\n"
     ]
    }
   ],
   "source": [
    "print(a)\n",
    "print(b)"
   ]
  },
  {
   "cell_type": "code",
   "execution_count": 37,
   "id": "eee4a473",
   "metadata": {
    "slideshow": {
     "slide_type": "subslide"
    }
   },
   "outputs": [
    {
     "data": {
      "text/plain": [
       "False"
      ]
     },
     "execution_count": 37,
     "metadata": {},
     "output_type": "execute_result"
    }
   ],
   "source": [
    "# Maior que?\n",
    "a > b"
   ]
  },
  {
   "cell_type": "code",
   "execution_count": 38,
   "id": "96a322eb",
   "metadata": {
    "slideshow": {
     "slide_type": "subslide"
    }
   },
   "outputs": [
    {
     "data": {
      "text/plain": [
       "True"
      ]
     },
     "execution_count": 38,
     "metadata": {},
     "output_type": "execute_result"
    }
   ],
   "source": [
    "#Menor que?\n",
    "a < b"
   ]
  },
  {
   "cell_type": "code",
   "execution_count": 39,
   "id": "eed098f4",
   "metadata": {
    "slideshow": {
     "slide_type": "subslide"
    }
   },
   "outputs": [
    {
     "data": {
      "text/plain": [
       "False"
      ]
     },
     "execution_count": 39,
     "metadata": {},
     "output_type": "execute_result"
    }
   ],
   "source": [
    "#Igual a?\n",
    "a == b"
   ]
  },
  {
   "cell_type": "code",
   "execution_count": 40,
   "id": "e50ce479",
   "metadata": {
    "slideshow": {
     "slide_type": "subslide"
    }
   },
   "outputs": [
    {
     "data": {
      "text/plain": [
       "True"
      ]
     },
     "execution_count": 40,
     "metadata": {},
     "output_type": "execute_result"
    }
   ],
   "source": [
    "#Diferente de?\n",
    "a != b"
   ]
  },
  {
   "cell_type": "code",
   "execution_count": 44,
   "id": "7fdf38b9",
   "metadata": {
    "slideshow": {
     "slide_type": "subslide"
    }
   },
   "outputs": [
    {
     "data": {
      "text/plain": [
       "False"
      ]
     },
     "execution_count": 44,
     "metadata": {},
     "output_type": "execute_result"
    }
   ],
   "source": [
    "#Duas consições precisam ser satifestas\n",
    "a > b and b > a"
   ]
  },
  {
   "cell_type": "code",
   "execution_count": 45,
   "id": "c0160cb0",
   "metadata": {
    "slideshow": {
     "slide_type": "subslide"
    }
   },
   "outputs": [
    {
     "data": {
      "text/plain": [
       "True"
      ]
     },
     "execution_count": 45,
     "metadata": {},
     "output_type": "execute_result"
    }
   ],
   "source": [
    "#Uma consição precisa ser satifestas\n",
    "a > b or b > a"
   ]
  },
  {
   "cell_type": "code",
   "execution_count": 46,
   "id": "3da6a55a",
   "metadata": {
    "slideshow": {
     "slide_type": "subslide"
    }
   },
   "outputs": [
    {
     "data": {
      "text/plain": [
       "True"
      ]
     },
     "execution_count": 46,
     "metadata": {},
     "output_type": "execute_result"
    }
   ],
   "source": [
    "not a != b == False"
   ]
  },
  {
   "cell_type": "markdown",
   "id": "a94e47f5",
   "metadata": {
    "slideshow": {
     "slide_type": "slide"
    }
   },
   "source": [
    "Exercício:\n",
    "Um pouco de mão na massa!\n",
    "\n",
    "Defina as seguintes variáveis:"
   ]
  },
  {
   "cell_type": "code",
   "execution_count": 47,
   "id": "8f9228d0",
   "metadata": {
    "slideshow": {
     "slide_type": "fragment"
    }
   },
   "outputs": [],
   "source": [
    "nalunas = 20\n",
    "\n",
    "nota = 8.9\n",
    "\n",
    "dia = 2\n",
    "\n",
    "d = '2'"
   ]
  },
  {
   "cell_type": "markdown",
   "id": "1a79e098",
   "metadata": {
    "slideshow": {
     "slide_type": "subslide"
    }
   },
   "source": [
    "Agora faça:\n",
    "\n",
    "nalunas + dia\n",
    "\n",
    "nalunas ** dia\n",
    "\n",
    "nalunas + nota\n",
    "\n",
    "nalunas + d"
   ]
  },
  {
   "cell_type": "code",
   "execution_count": 48,
   "id": "508082a7",
   "metadata": {
    "slideshow": {
     "slide_type": "slide"
    }
   },
   "outputs": [
    {
     "data": {
      "text/plain": [
       "22"
      ]
     },
     "execution_count": 48,
     "metadata": {},
     "output_type": "execute_result"
    }
   ],
   "source": [
    "nalunas + dia"
   ]
  },
  {
   "cell_type": "code",
   "execution_count": 49,
   "id": "44950f78",
   "metadata": {
    "slideshow": {
     "slide_type": "subslide"
    }
   },
   "outputs": [
    {
     "data": {
      "text/plain": [
       "400"
      ]
     },
     "execution_count": 49,
     "metadata": {},
     "output_type": "execute_result"
    }
   ],
   "source": [
    "nalunas ** dia"
   ]
  },
  {
   "cell_type": "code",
   "execution_count": 50,
   "id": "fa260c14",
   "metadata": {
    "slideshow": {
     "slide_type": "subslide"
    }
   },
   "outputs": [
    {
     "data": {
      "text/plain": [
       "28.9"
      ]
     },
     "execution_count": 50,
     "metadata": {},
     "output_type": "execute_result"
    }
   ],
   "source": [
    "nalunas + nota"
   ]
  },
  {
   "cell_type": "code",
   "execution_count": 91,
   "id": "8d5971be",
   "metadata": {
    "slideshow": {
     "slide_type": "subslide"
    }
   },
   "outputs": [
    {
     "ename": "TypeError",
     "evalue": "unsupported operand type(s) for +: 'int' and 'str'",
     "output_type": "error",
     "traceback": [
      "\u001b[0;31m---------------------------------------------------------------------------\u001b[0m",
      "\u001b[0;31mTypeError\u001b[0m                                 Traceback (most recent call last)",
      "\u001b[0;32m<ipython-input-91-2a92fed99ab2>\u001b[0m in \u001b[0;36m<module>\u001b[0;34m\u001b[0m\n\u001b[0;32m----> 1\u001b[0;31m \u001b[0mnalunas\u001b[0m \u001b[0;34m+\u001b[0m \u001b[0md\u001b[0m\u001b[0;34m\u001b[0m\u001b[0;34m\u001b[0m\u001b[0m\n\u001b[0m",
      "\u001b[0;31mTypeError\u001b[0m: unsupported operand type(s) for +: 'int' and 'str'"
     ]
    }
   ],
   "source": [
    "nalunas + d"
   ]
  },
  {
   "cell_type": "code",
   "execution_count": 92,
   "id": "c8c50ac2",
   "metadata": {
    "slideshow": {
     "slide_type": "fragment"
    }
   },
   "outputs": [
    {
     "data": {
      "text/plain": [
       "22"
      ]
     },
     "execution_count": 92,
     "metadata": {},
     "output_type": "execute_result"
    }
   ],
   "source": [
    "nalunas + int(d)"
   ]
  },
  {
   "cell_type": "markdown",
   "id": "613f9485",
   "metadata": {
    "slideshow": {
     "slide_type": "slide"
    }
   },
   "source": [
    "Exercício:\n",
    "Um pouco de mão na massa!\n",
    "\n",
    "Agora teste algumas condições:\n",
    "\n",
    "nalunas == dia\n",
    "\n",
    "nalunas >= nota\n",
    "\n",
    "nalunas > nota and nota < dia\n",
    "\n",
    "nalunas > nota or nota < dia"
   ]
  },
  {
   "cell_type": "code",
   "execution_count": 52,
   "id": "496e415e",
   "metadata": {
    "slideshow": {
     "slide_type": "subslide"
    }
   },
   "outputs": [
    {
     "data": {
      "text/plain": [
       "False"
      ]
     },
     "execution_count": 52,
     "metadata": {},
     "output_type": "execute_result"
    }
   ],
   "source": [
    "nalunas == dia"
   ]
  },
  {
   "cell_type": "code",
   "execution_count": 53,
   "id": "bfc4598a",
   "metadata": {
    "slideshow": {
     "slide_type": "subslide"
    }
   },
   "outputs": [
    {
     "data": {
      "text/plain": [
       "True"
      ]
     },
     "execution_count": 53,
     "metadata": {},
     "output_type": "execute_result"
    }
   ],
   "source": [
    "nalunas >= nota"
   ]
  },
  {
   "cell_type": "code",
   "execution_count": 54,
   "id": "b1030854",
   "metadata": {
    "slideshow": {
     "slide_type": "subslide"
    }
   },
   "outputs": [
    {
     "data": {
      "text/plain": [
       "False"
      ]
     },
     "execution_count": 54,
     "metadata": {},
     "output_type": "execute_result"
    }
   ],
   "source": [
    "nalunas > nota and nota < dia"
   ]
  },
  {
   "cell_type": "code",
   "execution_count": 55,
   "id": "b1596bd6",
   "metadata": {
    "slideshow": {
     "slide_type": "subslide"
    }
   },
   "outputs": [
    {
     "data": {
      "text/plain": [
       "True"
      ]
     },
     "execution_count": 55,
     "metadata": {},
     "output_type": "execute_result"
    }
   ],
   "source": [
    "nalunas > nota or nota < dia"
   ]
  },
  {
   "cell_type": "markdown",
   "id": "0341d63a",
   "metadata": {
    "slideshow": {
     "slide_type": "slide"
    }
   },
   "source": [
    "\n",
    "## Operações com textos/strings\n",
    "\n",
    "Podemos definir uma string de diversas formas. Usando:\n",
    "\n",
    "t = 'com aspas simples'\n",
    "\n",
    "t = \"com aspas duplas\"\n",
    "\n",
    "t = \"\"\"com aspas triplas\"\"\"\n"
   ]
  },
  {
   "cell_type": "markdown",
   "id": "b4014d16",
   "metadata": {
    "slideshow": {
     "slide_type": "subslide"
    }
   },
   "source": [
    "No python da para fazer muita coisa com as strings também!\n",
    "\n",
    "**Vamos ver algumas delas**"
   ]
  },
  {
   "cell_type": "code",
   "execution_count": 56,
   "id": "40312e4f",
   "metadata": {
    "slideshow": {
     "slide_type": "slide"
    }
   },
   "outputs": [
    {
     "name": "stdout",
     "output_type": "stream",
     "text": [
      "Estamos aprendendo o básico de python\n"
     ]
    }
   ],
   "source": [
    "texto_novo = \"Estamos aprendendo o básico de python\"\n",
    "\n",
    "print(texto_novo)"
   ]
  },
  {
   "cell_type": "markdown",
   "id": "45b72ba1",
   "metadata": {
    "slideshow": {
     "slide_type": "fragment"
    }
   },
   "source": [
    "Podemos transformar toda a string em letra maiúscula (Uppercase)."
   ]
  },
  {
   "cell_type": "code",
   "execution_count": 57,
   "id": "6fd8f4e0",
   "metadata": {
    "slideshow": {
     "slide_type": "fragment"
    }
   },
   "outputs": [
    {
     "data": {
      "text/plain": [
       "'ESTAMOS APRENDENDO O BÁSICO DE PYTHON'"
      ]
     },
     "execution_count": 57,
     "metadata": {},
     "output_type": "execute_result"
    }
   ],
   "source": [
    "\"Estamos aprendendo o básico de python\".upper()"
   ]
  },
  {
   "cell_type": "markdown",
   "id": "566affd5",
   "metadata": {
    "slideshow": {
     "slide_type": "subslide"
    }
   },
   "source": [
    "Também podemos transformar toda a string em letra mainúscula (Lowercase)."
   ]
  },
  {
   "cell_type": "code",
   "execution_count": 58,
   "id": "71067022",
   "metadata": {
    "slideshow": {
     "slide_type": "fragment"
    }
   },
   "outputs": [
    {
     "data": {
      "text/plain": [
       "'estamos aprendendo o básico de python'"
      ]
     },
     "execution_count": 58,
     "metadata": {},
     "output_type": "execute_result"
    }
   ],
   "source": [
    "\"Estamos aprendendo o básico de python\".lower()"
   ]
  },
  {
   "cell_type": "markdown",
   "id": "03e00d04",
   "metadata": {
    "slideshow": {
     "slide_type": "subslide"
    }
   },
   "source": [
    "É possivel colocar apenas o primeir caracter da string em letra maiúscula.\n",
    "\n",
    "(Se o primeiro caracter for um número, não vai acontecer nada)"
   ]
  },
  {
   "cell_type": "code",
   "execution_count": 59,
   "id": "7d597895",
   "metadata": {
    "slideshow": {
     "slide_type": "fragment"
    }
   },
   "outputs": [
    {
     "data": {
      "text/plain": [
       "'Estamos aprendendo o básico de python'"
      ]
     },
     "execution_count": 59,
     "metadata": {},
     "output_type": "execute_result"
    }
   ],
   "source": [
    "'estamos aprendendo o básico de python'.capitalize()"
   ]
  },
  {
   "cell_type": "code",
   "execution_count": 60,
   "id": "6707eed5",
   "metadata": {
    "slideshow": {
     "slide_type": "fragment"
    }
   },
   "outputs": [
    {
     "data": {
      "text/plain": [
       "'1 estamos aprendendo o básico de python'"
      ]
     },
     "execution_count": 60,
     "metadata": {},
     "output_type": "execute_result"
    }
   ],
   "source": [
    "'1 estamos aprendendo o básico de python'.capitalize()"
   ]
  },
  {
   "cell_type": "markdown",
   "id": "5127ca8e",
   "metadata": {
    "slideshow": {
     "slide_type": "subslide"
    }
   },
   "source": [
    "Usando .title() colocamos a primeira letra de cada palavra em maiúscula."
   ]
  },
  {
   "cell_type": "code",
   "execution_count": 61,
   "id": "97ce5560",
   "metadata": {
    "slideshow": {
     "slide_type": "fragment"
    }
   },
   "outputs": [
    {
     "data": {
      "text/plain": [
       "'Estamos Aprendendo O Básico De Python'"
      ]
     },
     "execution_count": 61,
     "metadata": {},
     "output_type": "execute_result"
    }
   ],
   "source": [
    "'estamos aprendendo o básico de python'.title()"
   ]
  },
  {
   "cell_type": "markdown",
   "id": "020df856",
   "metadata": {
    "slideshow": {
     "slide_type": "slide"
    }
   },
   "source": [
    "As strings também nos permitem realizar operações aritméticas como fizemos com os números."
   ]
  },
  {
   "cell_type": "code",
   "execution_count": 62,
   "id": "f884656a",
   "metadata": {
    "slideshow": {
     "slide_type": "fragment"
    }
   },
   "outputs": [],
   "source": [
    "texto1 = 'Hoje a noite tem aula...'"
   ]
  },
  {
   "cell_type": "code",
   "execution_count": 63,
   "id": "d319d540",
   "metadata": {
    "slideshow": {
     "slide_type": "fragment"
    }
   },
   "outputs": [
    {
     "data": {
      "text/plain": [
       "'Hoje a noite tem aula...Hoje a noite tem aula...'"
      ]
     },
     "execution_count": 63,
     "metadata": {},
     "output_type": "execute_result"
    }
   ],
   "source": [
    "2 * texto1"
   ]
  },
  {
   "cell_type": "markdown",
   "id": "89d0a082",
   "metadata": {
    "slideshow": {
     "slide_type": "fragment"
    }
   },
   "source": [
    "Neste caso, o python é esperto para entender que você deseja multiplicar o texto contido na variável. Mas e se tentar alguma subtração ou adição?"
   ]
  },
  {
   "cell_type": "code",
   "execution_count": 64,
   "id": "5385dc48",
   "metadata": {
    "slideshow": {
     "slide_type": "subslide"
    }
   },
   "outputs": [
    {
     "ename": "TypeError",
     "evalue": "unsupported operand type(s) for +: 'int' and 'str'",
     "output_type": "error",
     "traceback": [
      "\u001b[0;31m---------------------------------------------------------------------------\u001b[0m",
      "\u001b[0;31mTypeError\u001b[0m                                 Traceback (most recent call last)",
      "\u001b[0;32m<ipython-input-64-db293aabfacd>\u001b[0m in \u001b[0;36m<module>\u001b[0;34m\u001b[0m\n\u001b[0;32m----> 1\u001b[0;31m \u001b[0;36m2\u001b[0m \u001b[0;34m+\u001b[0m \u001b[0mtexto1\u001b[0m\u001b[0;34m\u001b[0m\u001b[0;34m\u001b[0m\u001b[0m\n\u001b[0m",
      "\u001b[0;31mTypeError\u001b[0m: unsupported operand type(s) for +: 'int' and 'str'"
     ]
    }
   ],
   "source": [
    "2 + texto1"
   ]
  },
  {
   "cell_type": "markdown",
   "id": "e9fa4002",
   "metadata": {
    "slideshow": {
     "slide_type": "fragment"
    }
   },
   "source": [
    "Ele não realiza, pois somar/subtrair só é permitido entre variáveis que sejam números (inteiros ou decimais) ou textos (strings):"
   ]
  },
  {
   "cell_type": "code",
   "execution_count": 65,
   "id": "7c6493bd",
   "metadata": {
    "slideshow": {
     "slide_type": "fragment"
    }
   },
   "outputs": [
    {
     "name": "stdout",
     "output_type": "stream",
     "text": [
      "Hoje a noite tem aula...Hoje a noite tem aula...\n",
      "Hoje a noite tem aula...Hoje a noite tem aula...\n"
     ]
    }
   ],
   "source": [
    "print(texto1 + texto1)\n",
    "print(2 * texto1)"
   ]
  },
  {
   "cell_type": "markdown",
   "id": "ec58781e",
   "metadata": {
    "slideshow": {
     "slide_type": "subslide"
    }
   },
   "source": [
    "No entanto, se variável for um texto que representa algum valor numérico (ex: y = '100'), podemos converter seu texto em valores numéricos e realizar alguma operação:"
   ]
  },
  {
   "cell_type": "code",
   "execution_count": 95,
   "id": "6555e130",
   "metadata": {
    "slideshow": {
     "slide_type": "fragment"
    }
   },
   "outputs": [
    {
     "name": "stdout",
     "output_type": "stream",
     "text": [
      "102\n",
      "102.0\n",
      "2100\n"
     ]
    }
   ],
   "source": [
    "y = '100'\n",
    "x = 2\n",
    "\n",
    "print(x + int(y))\n",
    "print(x + float(y))\n",
    "print(str(x) + y)"
   ]
  },
  {
   "cell_type": "markdown",
   "id": "b51bfb7f",
   "metadata": {
    "slideshow": {
     "slide_type": "slide"
    }
   },
   "source": [
    "No python temos comandos para testar se um texto começa/termina com um elemento específico. É um teste lógico."
   ]
  },
  {
   "cell_type": "code",
   "execution_count": 67,
   "id": "2ed09862",
   "metadata": {
    "slideshow": {
     "slide_type": "fragment"
    }
   },
   "outputs": [
    {
     "data": {
      "text/plain": [
       "True"
      ]
     },
     "execution_count": 67,
     "metadata": {},
     "output_type": "execute_result"
    }
   ],
   "source": [
    "#startswith\n",
    "'Estamos aprendendo o básico de python'.startswith('E')"
   ]
  },
  {
   "cell_type": "code",
   "execution_count": 68,
   "id": "2ad6ca7b",
   "metadata": {
    "slideshow": {
     "slide_type": "fragment"
    }
   },
   "outputs": [
    {
     "data": {
      "text/plain": [
       "True"
      ]
     },
     "execution_count": 68,
     "metadata": {},
     "output_type": "execute_result"
    }
   ],
   "source": [
    "#startswith\n",
    "'Estamos aprendendo o básico de python'.startswith('Esta')"
   ]
  },
  {
   "cell_type": "code",
   "execution_count": 69,
   "id": "e79f2e87",
   "metadata": {
    "slideshow": {
     "slide_type": "fragment"
    }
   },
   "outputs": [
    {
     "data": {
      "text/plain": [
       "False"
      ]
     },
     "execution_count": 69,
     "metadata": {},
     "output_type": "execute_result"
    }
   ],
   "source": [
    "#startswith\n",
    "'Estamos aprendendo o básico de python'.startswith('esta')"
   ]
  },
  {
   "cell_type": "code",
   "execution_count": 70,
   "id": "bcfdf3a1",
   "metadata": {
    "slideshow": {
     "slide_type": "fragment"
    }
   },
   "outputs": [
    {
     "data": {
      "text/plain": [
       "True"
      ]
     },
     "execution_count": 70,
     "metadata": {},
     "output_type": "execute_result"
    }
   ],
   "source": [
    "#endswith\n",
    "'Estamos aprendendo o básico de python'.endswith('python')"
   ]
  },
  {
   "cell_type": "code",
   "execution_count": 98,
   "id": "098b691f",
   "metadata": {},
   "outputs": [
    {
     "data": {
      "text/plain": [
       "True"
      ]
     },
     "execution_count": 98,
     "metadata": {},
     "output_type": "execute_result"
    }
   ],
   "source": [
    "#também podemos buscar palavras dentro de uma string\n",
    "'python' in 'Estamos aprendendo o básico de python'"
   ]
  },
  {
   "cell_type": "markdown",
   "id": "e3644303",
   "metadata": {
    "slideshow": {
     "slide_type": "slide"
    }
   },
   "source": [
    "\n",
    "\n",
    "\n",
    "Strings podem ser \"fatiadas\" (slice) para selecionarmos caractereses específicos. Isso é feito através do uso de índices:"
   ]
  },
  {
   "cell_type": "code",
   "execution_count": 72,
   "id": "1d1f2fe7",
   "metadata": {
    "slideshow": {
     "slide_type": "fragment"
    }
   },
   "outputs": [
    {
     "data": {
      "text/plain": [
       "'E'"
      ]
     },
     "execution_count": 72,
     "metadata": {},
     "output_type": "execute_result"
    }
   ],
   "source": [
    "# print da primeira letra da nossa string\n",
    "texto_novo[0]"
   ]
  },
  {
   "cell_type": "markdown",
   "id": "79ce0fbd",
   "metadata": {
    "slideshow": {
     "slide_type": "fragment"
    }
   },
   "source": [
    "O numero será 0 (zero) para o primeiro caractere."
   ]
  },
  {
   "cell_type": "code",
   "execution_count": 100,
   "id": "a29f2b6e",
   "metadata": {
    "slideshow": {
     "slide_type": "fragment"
    }
   },
   "outputs": [
    {
     "data": {
      "text/plain": [
       "'python'"
      ]
     },
     "execution_count": 100,
     "metadata": {},
     "output_type": "execute_result"
    }
   ],
   "source": [
    "# print de um pedaço da nossa string\n",
    "texto_novo[31:]"
   ]
  },
  {
   "cell_type": "markdown",
   "id": "318131f4",
   "metadata": {
    "slideshow": {
     "slide_type": "fragment"
    }
   },
   "source": [
    "Quando omitimos um índice, é mostrado o caractere do extremo correspondente."
   ]
  },
  {
   "cell_type": "markdown",
   "id": "3d5a3308",
   "metadata": {
    "slideshow": {
     "slide_type": "slide"
    }
   },
   "source": [
    "É possível andar de trás para frente na string:"
   ]
  },
  {
   "cell_type": "code",
   "execution_count": 101,
   "id": "40be722f",
   "metadata": {
    "slideshow": {
     "slide_type": "fragment"
    }
   },
   "outputs": [
    {
     "data": {
      "text/plain": [
       "'n'"
      ]
     },
     "execution_count": 101,
     "metadata": {},
     "output_type": "execute_result"
    }
   ],
   "source": [
    "# print da última letra da nossa string\n",
    "texto_novo[-1]"
   ]
  },
  {
   "cell_type": "code",
   "execution_count": 75,
   "id": "c705ee14",
   "metadata": {
    "slideshow": {
     "slide_type": "fragment"
    }
   },
   "outputs": [
    {
     "data": {
      "text/plain": [
       "'python'"
      ]
     },
     "execution_count": 75,
     "metadata": {},
     "output_type": "execute_result"
    }
   ],
   "source": [
    "# print de um pedaço da nossa string de tras para frente\n",
    "texto_novo[-6:]"
   ]
  },
  {
   "cell_type": "markdown",
   "id": "cedd5464",
   "metadata": {
    "slideshow": {
     "slide_type": "slide"
    }
   },
   "source": [
    "Podemos pegar elementos de um texto pulando em um passo de tempo determinado por nós:"
   ]
  },
  {
   "cell_type": "code",
   "execution_count": 76,
   "id": "2cbaccdb",
   "metadata": {
    "slideshow": {
     "slide_type": "fragment"
    }
   },
   "outputs": [
    {
     "data": {
      "text/plain": [
       "'Etmsarned  áiod yhn'"
      ]
     },
     "execution_count": 76,
     "metadata": {},
     "output_type": "execute_result"
    }
   ],
   "source": [
    "# print dos elementos da nossa string de dois em dois\n",
    "texto_novo[::2]"
   ]
  },
  {
   "cell_type": "markdown",
   "id": "d3c3dc0a",
   "metadata": {
    "slideshow": {
     "slide_type": "fragment"
    }
   },
   "source": [
    "Ao usar o sinal de - (menos) obtemos o mesmo resultado, só que de tras para frente"
   ]
  },
  {
   "cell_type": "code",
   "execution_count": 103,
   "id": "d3271872",
   "metadata": {
    "slideshow": {
     "slide_type": "fragment"
    }
   },
   "outputs": [
    {
     "data": {
      "text/plain": [
       "'nhy doiá  denrasmtE'"
      ]
     },
     "execution_count": 103,
     "metadata": {},
     "output_type": "execute_result"
    }
   ],
   "source": [
    "# print dos elementos da nossa string de dois em dois de tras para frente\n",
    "texto_novo[::-2]"
   ]
  },
  {
   "cell_type": "markdown",
   "id": "c3fbad29",
   "metadata": {
    "slideshow": {
     "slide_type": "slide"
    }
   },
   "source": [
    "Embora possamos acessar os elementos da string, nós não podemos substituir algum elemento específico. Se tentarmos, o seguinte erro surgirá:"
   ]
  },
  {
   "cell_type": "code",
   "execution_count": 78,
   "id": "3f1c50ec",
   "metadata": {
    "slideshow": {
     "slide_type": "fragment"
    }
   },
   "outputs": [
    {
     "ename": "TypeError",
     "evalue": "'str' object does not support item assignment",
     "output_type": "error",
     "traceback": [
      "\u001b[0;31m---------------------------------------------------------------------------\u001b[0m",
      "\u001b[0;31mTypeError\u001b[0m                                 Traceback (most recent call last)",
      "\u001b[0;32m<ipython-input-78-939d1750fc2f>\u001b[0m in \u001b[0;36m<module>\u001b[0;34m\u001b[0m\n\u001b[0;32m----> 1\u001b[0;31m \u001b[0mtexto_novo\u001b[0m\u001b[0;34m[\u001b[0m\u001b[0;36m0\u001b[0m\u001b[0;34m]\u001b[0m \u001b[0;34m=\u001b[0m \u001b[0;34m'A'\u001b[0m\u001b[0;34m\u001b[0m\u001b[0;34m\u001b[0m\u001b[0m\n\u001b[0m",
      "\u001b[0;31mTypeError\u001b[0m: 'str' object does not support item assignment"
     ]
    }
   ],
   "source": [
    "texto_novo[0] = 'A'"
   ]
  },
  {
   "cell_type": "markdown",
   "id": "afd118b7",
   "metadata": {
    "slideshow": {
     "slide_type": "slide"
    }
   },
   "source": [
    "Exercício:\n",
    "Um pouco de mão na massa!\n",
    "\n",
    "Defina a variável:\n",
    "curso = 'mulheres no python'\n",
    "\n",
    "- escreva a primeira palavra da frase (mulheres)\n",
    "- escreve MULHERES NO PYTHON\n",
    "- escreva Mulheres No Python\n",
    "- escreva mulheres no python de forma invertida\n",
    "- escreva mulheres no python arrasam!\n",
    "\n",
    "Desafio:\n",
    "- escreva Mulheres arrasam no python!\n",
    "\n",
    "Dica: lembre de usar os comandos que acabamos de ver!"
   ]
  },
  {
   "cell_type": "code",
   "execution_count": 79,
   "id": "13204a20",
   "metadata": {
    "slideshow": {
     "slide_type": "subslide"
    }
   },
   "outputs": [],
   "source": [
    "curso = 'mulheres no python'"
   ]
  },
  {
   "cell_type": "code",
   "execution_count": 80,
   "id": "570715b1",
   "metadata": {
    "slideshow": {
     "slide_type": "subslide"
    }
   },
   "outputs": [
    {
     "data": {
      "text/plain": [
       "'mulheres'"
      ]
     },
     "execution_count": 80,
     "metadata": {},
     "output_type": "execute_result"
    }
   ],
   "source": [
    "curso[0:8]"
   ]
  },
  {
   "cell_type": "code",
   "execution_count": 81,
   "id": "40cae4d7",
   "metadata": {
    "slideshow": {
     "slide_type": "fragment"
    }
   },
   "outputs": [
    {
     "data": {
      "text/plain": [
       "'MULHERES NO PYTHON'"
      ]
     },
     "execution_count": 81,
     "metadata": {},
     "output_type": "execute_result"
    }
   ],
   "source": [
    "curso.upper()"
   ]
  },
  {
   "cell_type": "code",
   "execution_count": 82,
   "id": "b23c1ef7",
   "metadata": {
    "slideshow": {
     "slide_type": "fragment"
    }
   },
   "outputs": [
    {
     "data": {
      "text/plain": [
       "'Mulheres No Python'"
      ]
     },
     "execution_count": 82,
     "metadata": {},
     "output_type": "execute_result"
    }
   ],
   "source": [
    "curso.title()"
   ]
  },
  {
   "cell_type": "code",
   "execution_count": 83,
   "id": "e0b51dc2",
   "metadata": {
    "slideshow": {
     "slide_type": "fragment"
    }
   },
   "outputs": [
    {
     "data": {
      "text/plain": [
       "'nohtyp on serehlum'"
      ]
     },
     "execution_count": 83,
     "metadata": {},
     "output_type": "execute_result"
    }
   ],
   "source": [
    "curso[::-1]"
   ]
  },
  {
   "cell_type": "code",
   "execution_count": 84,
   "id": "4fc28d1c",
   "metadata": {
    "slideshow": {
     "slide_type": "fragment"
    }
   },
   "outputs": [
    {
     "data": {
      "text/plain": [
       "'mulheres no python arrasam!'"
      ]
     },
     "execution_count": 84,
     "metadata": {},
     "output_type": "execute_result"
    }
   ],
   "source": [
    "curso + ' arrasam!'"
   ]
  },
  {
   "cell_type": "code",
   "execution_count": 85,
   "id": "8ba96940",
   "metadata": {
    "slideshow": {
     "slide_type": "fragment"
    }
   },
   "outputs": [
    {
     "data": {
      "text/plain": [
       "'Mulheres arrasam no python!'"
      ]
     },
     "execution_count": 85,
     "metadata": {},
     "output_type": "execute_result"
    }
   ],
   "source": [
    "(curso[:8] + ' arrasam ' + curso[9:] + '!').capitalize()"
   ]
  },
  {
   "cell_type": "markdown",
   "id": "0e7c6995",
   "metadata": {
    "slideshow": {
     "slide_type": "slide"
    }
   },
   "source": [
    "Uma outra forma de procurar um elemento dentro de uma string usando um método da própria string:"
   ]
  },
  {
   "cell_type": "code",
   "execution_count": 86,
   "id": "e900fb0d",
   "metadata": {
    "slideshow": {
     "slide_type": "fragment"
    }
   },
   "outputs": [
    {
     "data": {
      "text/plain": [
       "3"
      ]
     },
     "execution_count": 86,
     "metadata": {},
     "output_type": "execute_result"
    }
   ],
   "source": [
    "# Procurar a primeira aparição de h na variável\n",
    "curso.find('h')"
   ]
  },
  {
   "cell_type": "markdown",
   "id": "394ecdb8",
   "metadata": {
    "slideshow": {
     "slide_type": "fragment"
    }
   },
   "source": [
    "Ele retorna a posição da primeira aparição do elemento a partir do ínicio da string."
   ]
  },
  {
   "cell_type": "code",
   "execution_count": 87,
   "id": "f9e15794",
   "metadata": {
    "slideshow": {
     "slide_type": "fragment"
    }
   },
   "outputs": [
    {
     "data": {
      "text/plain": [
       "'h'"
      ]
     },
     "execution_count": 87,
     "metadata": {},
     "output_type": "execute_result"
    }
   ],
   "source": [
    "# Imprimir na tela o que tem na posição 3\n",
    "curso[3]"
   ]
  },
  {
   "cell_type": "markdown",
   "id": "a998c4a2",
   "metadata": {
    "slideshow": {
     "slide_type": "subslide"
    }
   },
   "source": [
    "Podemos definir a posição a partir da qual queremos procurar um determinado elemento:"
   ]
  },
  {
   "cell_type": "code",
   "execution_count": 88,
   "id": "20f038d5",
   "metadata": {
    "slideshow": {
     "slide_type": "fragment"
    }
   },
   "outputs": [
    {
     "data": {
      "text/plain": [
       "15"
      ]
     },
     "execution_count": 88,
     "metadata": {},
     "output_type": "execute_result"
    }
   ],
   "source": [
    "# Procurar a primeira aparição de h na variável a aprtir da posição 9\n",
    "curso.find('h', 9)"
   ]
  },
  {
   "cell_type": "code",
   "execution_count": 89,
   "id": "1d7213b8",
   "metadata": {
    "slideshow": {
     "slide_type": "fragment"
    }
   },
   "outputs": [
    {
     "data": {
      "text/plain": [
       "'h'"
      ]
     },
     "execution_count": 89,
     "metadata": {},
     "output_type": "execute_result"
    }
   ],
   "source": [
    "# Imprimir na tela o que tem na posição 15\n",
    "curso[15]"
   ]
  },
  {
   "cell_type": "markdown",
   "id": "d44ba1af",
   "metadata": {
    "slideshow": {
     "slide_type": "slide"
    }
   },
   "source": [
    "Usando o comando .replace() podemos substituir um texto dentro de uma string:"
   ]
  },
  {
   "cell_type": "code",
   "execution_count": 107,
   "id": "ee63ca87",
   "metadata": {
    "slideshow": {
     "slide_type": "fragment"
    }
   },
   "outputs": [
    {
     "data": {
      "text/plain": [
       "'mulhere no python'"
      ]
     },
     "execution_count": 107,
     "metadata": {},
     "output_type": "execute_result"
    }
   ],
   "source": [
    "# subtituindo o 's' por nada\n",
    "curso.replace('s', '')"
   ]
  },
  {
   "cell_type": "code",
   "execution_count": 108,
   "id": "ac68e882",
   "metadata": {
    "slideshow": {
     "slide_type": "fragment"
    }
   },
   "outputs": [
    {
     "data": {
      "text/plain": [
       "'mulheres na geociência'"
      ]
     },
     "execution_count": 108,
     "metadata": {},
     "output_type": "execute_result"
    }
   ],
   "source": [
    "# subtituindo 'no python' por 'na geociência'\n",
    "curso.replace('no python', 'na geociência')"
   ]
  },
  {
   "cell_type": "markdown",
   "id": "860110dd",
   "metadata": {
    "slideshow": {
     "slide_type": "slide"
    }
   },
   "source": [
    "## Estruturas de dados\n",
    "\n",
    "- armazenar uma coleção de variáveis\n",
    "- listas, tuplas, dicionários\n",
    "- variáveis arbitrárias"
   ]
  },
  {
   "cell_type": "markdown",
   "id": "848ac801",
   "metadata": {
    "slideshow": {
     "slide_type": "slide"
    }
   },
   "source": [
    "### Listas (list)\n",
    "\n",
    "- permite armazenar várias informações diferentes (número, string, lógico) em uma mesma variável\n",
    "- cria-se com [  ]\n",
    "- acesso via indexamento (indexing)\n",
    "\n",
    "- indexação inicia em 0 -> n-1, sendo n a quantidade de elementos\n",
    "\n",
    "- matlab: começa em 1 -> n, então tomem cuidado\n",
    "\n",
    "- indexação funciona com números negativos, pegando a partir o último\n",
    "\n",
    "Obs: as strings que estavamos usando funcionam como listas!"
   ]
  },
  {
   "cell_type": "code",
   "execution_count": 109,
   "id": "463b48af",
   "metadata": {
    "slideshow": {
     "slide_type": "slide"
    }
   },
   "outputs": [
    {
     "data": {
      "text/plain": [
       "[1, 2, 3]"
      ]
     },
     "execution_count": 109,
     "metadata": {},
     "output_type": "execute_result"
    }
   ],
   "source": [
    "# definindo lista\n",
    "lista = [1, 2, 3]\n",
    "\n",
    "lista"
   ]
  },
  {
   "cell_type": "code",
   "execution_count": 110,
   "id": "1e91c671",
   "metadata": {
    "slideshow": {
     "slide_type": "slide"
    }
   },
   "outputs": [
    {
     "name": "stdout",
     "output_type": "stream",
     "text": [
      "Nossa lista possui: 3 elementos que são:\n",
      "['primeiro item tem índice 0', 100.1, ['outra lista', 'também rola']]\n"
     ]
    }
   ],
   "source": [
    "# criando uma lista:\n",
    "lista = ['primeiro item tem índice 0', 100.10, ['outra lista', 'também rola']]\n",
    "\n",
    "# tamanho da nossa lista usando a função nativa len, de length:\n",
    "n = len(lista)\n",
    "\n",
    "# opa, coisa nova!\n",
    "print(f\"Nossa lista possui: {n} elementos que são:\")\n",
    "print(lista)"
   ]
  },
  {
   "cell_type": "code",
   "execution_count": 111,
   "id": "6cfe3982",
   "metadata": {
    "slideshow": {
     "slide_type": "subslide"
    }
   },
   "outputs": [
    {
     "name": "stdout",
     "output_type": "stream",
     "text": [
      "Qual o índice do primeiro item? primeiro item tem índice 0\n"
     ]
    }
   ],
   "source": [
    "print(f\"Qual o índice do primeiro item? {lista[0]}\")"
   ]
  },
  {
   "cell_type": "markdown",
   "id": "e0806f04",
   "metadata": {
    "slideshow": {
     "slide_type": "fragment"
    }
   },
   "source": [
    "conseguimos acessar o último elemento usando n?"
   ]
  },
  {
   "cell_type": "code",
   "execution_count": 112,
   "id": "f32e4b07",
   "metadata": {
    "slideshow": {
     "slide_type": "fragment"
    }
   },
   "outputs": [
    {
     "ename": "IndexError",
     "evalue": "list index out of range",
     "output_type": "error",
     "traceback": [
      "\u001b[0;31m---------------------------------------------------------------------------\u001b[0m",
      "\u001b[0;31mIndexError\u001b[0m                                Traceback (most recent call last)",
      "\u001b[0;32m<ipython-input-112-c3cb051f4b0a>\u001b[0m in \u001b[0;36m<module>\u001b[0;34m\u001b[0m\n\u001b[0;32m----> 1\u001b[0;31m \u001b[0mlista\u001b[0m\u001b[0;34m[\u001b[0m\u001b[0mn\u001b[0m\u001b[0;34m]\u001b[0m\u001b[0;34m\u001b[0m\u001b[0;34m\u001b[0m\u001b[0m\n\u001b[0m",
      "\u001b[0;31mIndexError\u001b[0m: list index out of range"
     ]
    }
   ],
   "source": [
    "lista[n]"
   ]
  },
  {
   "cell_type": "code",
   "execution_count": 113,
   "id": "e50a8fd2",
   "metadata": {
    "slideshow": {
     "slide_type": "fragment"
    }
   },
   "outputs": [
    {
     "data": {
      "text/plain": [
       "['outra lista', 'também rola']"
      ]
     },
     "execution_count": 113,
     "metadata": {},
     "output_type": "execute_result"
    }
   ],
   "source": [
    "lista[n-1]"
   ]
  },
  {
   "cell_type": "markdown",
   "id": "7879b2fd",
   "metadata": {
    "slideshow": {
     "slide_type": "fragment"
    }
   },
   "source": [
    "Ou, como vimos nas strings:"
   ]
  },
  {
   "cell_type": "code",
   "execution_count": 114,
   "id": "d7926639",
   "metadata": {
    "slideshow": {
     "slide_type": "fragment"
    }
   },
   "outputs": [
    {
     "data": {
      "text/plain": [
       "['outra lista', 'também rola']"
      ]
     },
     "execution_count": 114,
     "metadata": {},
     "output_type": "execute_result"
    }
   ],
   "source": [
    "lista[-1]"
   ]
  },
  {
   "cell_type": "markdown",
   "id": "a7eb2017",
   "metadata": {
    "slideshow": {
     "slide_type": "fragment"
    }
   },
   "source": [
    "O último elemento da nossa lista é um outra lista!"
   ]
  },
  {
   "cell_type": "code",
   "execution_count": 115,
   "id": "56fa33b1",
   "metadata": {
    "slideshow": {
     "slide_type": "subslide"
    }
   },
   "outputs": [
    {
     "name": "stdout",
     "output_type": "stream",
     "text": [
      "['primeiro item tem índice 0', 100.1]\n"
     ]
    }
   ],
   "source": [
    "# print dos dois primeiros itens (de 0 a 2, porém 2 não está incluso)\n",
    "print(lista[0:2])"
   ]
  },
  {
   "cell_type": "code",
   "execution_count": 116,
   "id": "b771b7b7",
   "metadata": {
    "slideshow": {
     "slide_type": "fragment"
    }
   },
   "outputs": [
    {
     "name": "stdout",
     "output_type": "stream",
     "text": [
      "['primeiro item tem índice 0', 100.1]\n"
     ]
    }
   ],
   "source": [
    "# podemos omitir o 0 neste caso, mas se quisermos a partir do elemento 1, não.\n",
    "print(lista[:2])"
   ]
  },
  {
   "cell_type": "markdown",
   "id": "949070b1",
   "metadata": {
    "slideshow": {
     "slide_type": "subslide"
    }
   },
   "source": [
    "Podemos substituir elementos, através de seus índices:"
   ]
  },
  {
   "cell_type": "code",
   "execution_count": 117,
   "id": "2fc00c0b",
   "metadata": {
    "slideshow": {
     "slide_type": "fragment"
    }
   },
   "outputs": [
    {
     "name": "stdout",
     "output_type": "stream",
     "text": [
      "['primeiro item tem índice 0', 100.1, ['outra lista', 'também rola']]\n",
      "['mudei o valor do primeiro elemento', 100.1, ['outra lista', 'também rola']]\n"
     ]
    }
   ],
   "source": [
    "print(lista)\n",
    "\n",
    "lista[0] = 'mudei o valor do primeiro elemento'\n",
    "\n",
    "print(lista)"
   ]
  },
  {
   "cell_type": "markdown",
   "id": "cde92cec",
   "metadata": {
    "slideshow": {
     "slide_type": "slide"
    }
   },
   "source": [
    "### Copiando listas\n",
    "\n",
    "- algumas peculiaridades\n",
    "\n",
    "`lista_copia = copia`\n",
    "\n",
    "- mesma alocação de memória, portanto: edições em uma mudam a outra\n",
    "\n",
    "- vejamos:"
   ]
  },
  {
   "cell_type": "code",
   "execution_count": 118,
   "id": "b3424271",
   "metadata": {
    "slideshow": {
     "slide_type": "subslide"
    }
   },
   "outputs": [
    {
     "name": "stdout",
     "output_type": "stream",
     "text": [
      "['mudei o valor do primeiro elemento', 100.1, ['outra lista', 'também rola']]\n",
      "['mudei o valor do primeiro elemento', 100.1, ['outra lista', 'também rola']]\n"
     ]
    }
   ],
   "source": [
    "# exemplo de cópia \"rasa\" (shallow copy)\n",
    "nova_lista = lista\n",
    "\n",
    "print(lista)\n",
    "print(nova_lista)"
   ]
  },
  {
   "cell_type": "code",
   "execution_count": 119,
   "id": "a68235c4",
   "metadata": {
    "slideshow": {
     "slide_type": "fragment"
    }
   },
   "outputs": [
    {
     "name": "stdout",
     "output_type": "stream",
     "text": [
      "['primeiro item tem índice 0', 100.1, ['outra lista', 'também rola']]\n",
      "['primeiro item tem índice 0', 100.1, ['outra lista', 'também rola']]\n"
     ]
    }
   ],
   "source": [
    "nova_lista[0] = 'primeiro item tem índice 0'\n",
    "\n",
    "print(lista)\n",
    "print(nova_lista)"
   ]
  },
  {
   "cell_type": "markdown",
   "id": "a2e0a8cc",
   "metadata": {
    "slideshow": {
     "slide_type": "subslide"
    }
   },
   "source": [
    "Para resolver este problema, fazemos uma cópia \"profunda\", forçando o python da seguinte forma:"
   ]
  },
  {
   "cell_type": "code",
   "execution_count": 120,
   "id": "cd6fbbeb",
   "metadata": {
    "slideshow": {
     "slide_type": "fragment"
    }
   },
   "outputs": [
    {
     "name": "stdout",
     "output_type": "stream",
     "text": [
      "['primeiro item tem índice 0', 100.1, ['outra lista', 'também rola']]\n",
      "['mudei o valor do primeiro elemento', 100.1, ['outra lista', 'também rola']]\n"
     ]
    }
   ],
   "source": [
    "# exemplo de cópia profunda (deep copy)\n",
    "nova_lista = lista[:]\n",
    "\n",
    "nova_lista[0] = 'mudei o valor do primeiro elemento'\n",
    "\n",
    "print(lista)\n",
    "print(nova_lista)"
   ]
  },
  {
   "cell_type": "markdown",
   "id": "8b8aa1e4",
   "metadata": {
    "slideshow": {
     "slide_type": "slide"
    }
   },
   "source": [
    "\n",
    "## Métodos de listas\n",
    "\n",
    "- .append(novo_valor): para adicionarmos um novo elemento à nossa lista\n",
    "\n",
    "\n",
    "- .count(valor): retorna quantas vezes o elemento enviado como argumento para o método ocorre dentro da lista:\n",
    "\n",
    "\n",
    "- .insert(arg1, arg2): insere um novo valor em uma posição específica da lista. O primeiro argumento é o índice e o segundo o valor\n",
    "\n",
    "\n",
    "- .sort(): ordena a lista em ordem crescente. Mas só funciona se tivermos homogeneidade dos tipos de variáveis dentro da lista\n",
    "\n",
    "\n",
    "- .index(): retorna o índice do elemento que enviamos como argumento."
   ]
  },
  {
   "cell_type": "code",
   "execution_count": 121,
   "id": "9c1b854f",
   "metadata": {
    "slideshow": {
     "slide_type": "subslide"
    }
   },
   "outputs": [
    {
     "name": "stdout",
     "output_type": "stream",
     "text": [
      "['a', 100.1, 'c', False, 100.1]\n"
     ]
    }
   ],
   "source": [
    "lista = ['a', 100.1, 'c', False]\n",
    "\n",
    "var =  100.1\n",
    "\n",
    "lista.append(var)\n",
    "\n",
    "print(lista)"
   ]
  },
  {
   "cell_type": "code",
   "execution_count": 122,
   "id": "608bf2a5",
   "metadata": {
    "slideshow": {
     "slide_type": "subslide"
    }
   },
   "outputs": [
    {
     "name": "stdout",
     "output_type": "stream",
     "text": [
      "2\n"
     ]
    }
   ],
   "source": [
    "print(lista.count(100.1))"
   ]
  },
  {
   "cell_type": "code",
   "execution_count": 123,
   "id": "3c3c7979",
   "metadata": {
    "slideshow": {
     "slide_type": "subslide"
    }
   },
   "outputs": [
    {
     "name": "stdout",
     "output_type": "stream",
     "text": [
      "[100, 'a', 100.1, 'c', False, 100.1]\n"
     ]
    }
   ],
   "source": [
    "# .insert(arg1, arg2), arg1: indice/posicao, arg2: valor\n",
    "lista.insert(0,100)\n",
    "print(lista)"
   ]
  },
  {
   "cell_type": "code",
   "execution_count": 124,
   "id": "4d1e3b85",
   "metadata": {
    "slideshow": {
     "slide_type": "subslide"
    }
   },
   "outputs": [
    {
     "name": "stdout",
     "output_type": "stream",
     "text": [
      "[1, 2, 3]\n"
     ]
    }
   ],
   "source": [
    "# print(lista)\n",
    "lista2 = [3,2,1]\n",
    "lista2.sort()\n",
    "print(lista2)"
   ]
  },
  {
   "cell_type": "code",
   "execution_count": 157,
   "id": "503a4733",
   "metadata": {
    "slideshow": {
     "slide_type": "subslide"
    }
   },
   "outputs": [
    {
     "name": "stdout",
     "output_type": "stream",
     "text": [
      "[100, 'a', 100.1, 'c', False, 100.1]\n",
      "2\n"
     ]
    }
   ],
   "source": [
    "print(lista)\n",
    "\n",
    "print(lista.index(100.1))"
   ]
  },
  {
   "cell_type": "code",
   "execution_count": 126,
   "id": "c042d9f5",
   "metadata": {
    "slideshow": {
     "slide_type": "fragment"
    }
   },
   "outputs": [
    {
     "name": "stdout",
     "output_type": "stream",
     "text": [
      "[100, 'a', 100.1, 'c', False, 100.1]\n",
      "3\n"
     ]
    }
   ],
   "source": [
    "print(lista)\n",
    "\n",
    "print(lista.index('c'))"
   ]
  },
  {
   "cell_type": "markdown",
   "id": "3c7e29bd",
   "metadata": {
    "slideshow": {
     "slide_type": "slide"
    }
   },
   "source": [
    "### Métodos de listas apenas para strings\n",
    "\n",
    "- .join(lista): gruda os elementos de uma lista de strings, usando o parâmetro fornecido\n",
    "\n",
    "\n",
    "- .split('separador'): quebra uma string onde tenha o separador de texto escolhido, criando uma lista de strings"
   ]
  },
  {
   "cell_type": "code",
   "execution_count": 158,
   "id": "347f8837",
   "metadata": {
    "slideshow": {
     "slide_type": "subslide"
    }
   },
   "outputs": [
    {
     "name": "stdout",
     "output_type": "stream",
     "text": [
      "['append', 'count', 'insert']\n"
     ]
    },
    {
     "data": {
      "text/plain": [
       "'appendcountinsert'"
      ]
     },
     "execution_count": 158,
     "metadata": {},
     "output_type": "execute_result"
    }
   ],
   "source": [
    "metodos = ['append', 'count', 'insert']\n",
    "print(metodos)\n",
    "\n",
    "' e '.join(metodos)"
   ]
  },
  {
   "cell_type": "code",
   "execution_count": 128,
   "id": "ff3fdff6",
   "metadata": {
    "slideshow": {
     "slide_type": "fragment"
    }
   },
   "outputs": [
    {
     "name": "stdout",
     "output_type": "stream",
     "text": [
      "['append', 'count', 'insert']\n",
      "append/count/insert\n"
     ]
    },
    {
     "data": {
      "text/plain": [
       "['append', 'count', 'insert']"
      ]
     },
     "execution_count": 128,
     "metadata": {},
     "output_type": "execute_result"
    }
   ],
   "source": [
    "metodos = ['append', 'count', 'insert']\n",
    "print(metodos)\n",
    "\n",
    "metodos1 = '/'.join(metodos)\n",
    "print(metodos1)\n",
    "\n",
    "metodos1.split('/')"
   ]
  },
  {
   "cell_type": "markdown",
   "id": "a4b0d2d3",
   "metadata": {
    "slideshow": {
     "slide_type": "slide"
    }
   },
   "source": [
    "\n",
    "## Tuplas (tuple)\n",
    "\n",
    "São similar as listas, porém são imutáveis. Ao contrário das listas não podemos alterar os valores\n",
    "\n",
    "- cria-se com ()\n",
    "\n",
    "`tupla = (1,2,3, 'texto', ['lista', 'tambem'])`\n",
    "\n",
    "ou\n",
    "\n",
    "`tupla = 1,2,3, 'texto', ['lista', 'tambem']`\n",
    "\n",
    "- muito utilizada para transmitir informações estáticas dentro de um código\n",
    "\n",
    "\n",
    "- Ex: coordenadas geográficas para plotar em um mapa."
   ]
  },
  {
   "cell_type": "code",
   "execution_count": 129,
   "id": "ec6f9c53",
   "metadata": {
    "slideshow": {
     "slide_type": "subslide"
    }
   },
   "outputs": [
    {
     "name": "stdout",
     "output_type": "stream",
     "text": [
      "<class 'tuple'>\n",
      "<class 'tuple'>\n"
     ]
    }
   ],
   "source": [
    "a = (1,2,3)\n",
    "b = 1,2,3\n",
    "\n",
    "print(type(a))\n",
    "print(type(b))"
   ]
  },
  {
   "cell_type": "markdown",
   "id": "57bc6f08",
   "metadata": {
    "slideshow": {
     "slide_type": "subslide"
    }
   },
   "source": [
    "Curiosidade: para se criar um tupla de um únco elemento, não basta colocar o elemento entre parênteses. O python vai considerar como um único elemente e não uma tupla."
   ]
  },
  {
   "cell_type": "code",
   "execution_count": 130,
   "id": "b36fe631",
   "metadata": {
    "slideshow": {
     "slide_type": "fragment"
    }
   },
   "outputs": [
    {
     "name": "stdout",
     "output_type": "stream",
     "text": [
      " 1 type <class 'int'>\n",
      " (1,) type <class 'tuple'>\n",
      " teste type <class 'str'>\n",
      " ('teste',) type <class 'tuple'>\n"
     ]
    }
   ],
   "source": [
    "a = (1)\n",
    "b = (1,)\n",
    "c = ('teste')\n",
    "d = ('teste',)\n",
    "\n",
    "print(f' {a} type {type(a)}')\n",
    "print(f' {b} type {type(b)}')\n",
    "print(f' {c} type {type(c)}')\n",
    "print(f' {d} type {type(d)}')\n"
   ]
  },
  {
   "cell_type": "code",
   "execution_count": 131,
   "id": "ccf18855",
   "metadata": {
    "slideshow": {
     "slide_type": "subslide"
    }
   },
   "outputs": [
    {
     "name": "stdout",
     "output_type": "stream",
     "text": [
      "(-44.460789, -23.006711)\n"
     ]
    },
    {
     "data": {
      "text/plain": [
       "tuple"
      ]
     },
     "execution_count": 131,
     "metadata": {},
     "output_type": "execute_result"
    }
   ],
   "source": [
    "coords = (-44.460789, -23.006711)\n",
    "\n",
    "print(coords)\n",
    "type(coords)"
   ]
  },
  {
   "cell_type": "code",
   "execution_count": 132,
   "id": "b627342e",
   "metadata": {
    "slideshow": {
     "slide_type": "fragment"
    }
   },
   "outputs": [
    {
     "name": "stdout",
     "output_type": "stream",
     "text": [
      "-44.460789\n"
     ]
    }
   ],
   "source": [
    "print(coords[0])"
   ]
  },
  {
   "cell_type": "code",
   "execution_count": 133,
   "id": "7f6bf0c4",
   "metadata": {
    "slideshow": {
     "slide_type": "fragment"
    }
   },
   "outputs": [
    {
     "ename": "TypeError",
     "evalue": "'tuple' object does not support item assignment",
     "output_type": "error",
     "traceback": [
      "\u001b[0;31m---------------------------------------------------------------------------\u001b[0m",
      "\u001b[0;31mTypeError\u001b[0m                                 Traceback (most recent call last)",
      "\u001b[0;32m<ipython-input-133-7973980281a0>\u001b[0m in \u001b[0;36m<module>\u001b[0;34m\u001b[0m\n\u001b[0;32m----> 1\u001b[0;31m \u001b[0mcoords\u001b[0m\u001b[0;34m[\u001b[0m\u001b[0;36m0\u001b[0m\u001b[0;34m]\u001b[0m \u001b[0;34m=\u001b[0m \u001b[0;36m0\u001b[0m\u001b[0;34m\u001b[0m\u001b[0;34m\u001b[0m\u001b[0m\n\u001b[0m",
      "\u001b[0;31mTypeError\u001b[0m: 'tuple' object does not support item assignment"
     ]
    }
   ],
   "source": [
    "coords[0] = 0"
   ]
  },
  {
   "cell_type": "markdown",
   "id": "883f5637",
   "metadata": {
    "slideshow": {
     "slide_type": "slide"
    }
   },
   "source": [
    "\n",
    "## Dicionários (dict)\n",
    "\n",
    "- cria-se com {  } ou com dict:\n",
    "\n",
    "`dicionario = {}`\n",
    "\n",
    "`dicionario = dict([(key, value)])`\n",
    "\n",
    "- obrigatório o uso do conceito de chaves e valores\n",
    "\n",
    "- acesso é feito via chaves\n",
    "\n",
    "- as chaves devem ser únicas no dicionário!"
   ]
  },
  {
   "cell_type": "code",
   "execution_count": 159,
   "id": "2cec49a1",
   "metadata": {
    "slideshow": {
     "slide_type": "slide"
    }
   },
   "outputs": [
    {
     "data": {
      "text/plain": [
       "{'nova-chave': ['novo', 'valor', 'aqui']}"
      ]
     },
     "execution_count": 159,
     "metadata": {},
     "output_type": "execute_result"
    }
   ],
   "source": [
    "# criando dicionário da primeira forma\n",
    "dicionario = {}\n",
    "\n",
    "# adicionando informações dentro de um dicionário já existente\n",
    "dicionario['nova-chave'] = ['novo', 'valor', 'aqui']\n",
    "\n",
    "dicionario"
   ]
  },
  {
   "cell_type": "code",
   "execution_count": 160,
   "id": "8c7a3780",
   "metadata": {
    "slideshow": {
     "slide_type": "fragment"
    }
   },
   "outputs": [
    {
     "data": {
      "text/plain": [
       "dict"
      ]
     },
     "execution_count": 160,
     "metadata": {},
     "output_type": "execute_result"
    }
   ],
   "source": [
    "type(dicionario)"
   ]
  },
  {
   "cell_type": "code",
   "execution_count": 135,
   "id": "53aa533f",
   "metadata": {
    "slideshow": {
     "slide_type": "subslide"
    }
   },
   "outputs": [
    {
     "data": {
      "text/plain": [
       "{'A701': (-23.496294, -46.620088), 'A728': (-23.041668, -45.520841)}"
      ]
     },
     "execution_count": 135,
     "metadata": {},
     "output_type": "execute_result"
    }
   ],
   "source": [
    "# criando dicionário da segunda forma, para duas estações \n",
    "# meteorológias do CPTEC e suas coordenadas geográficas\n",
    "estacoesAutomaticas = {\n",
    "    'A701': (-23.496294, -46.620088),\n",
    "    'A728': (-23.041668, -45.520841)\n",
    "}\n",
    "\n",
    "estacoesAutomaticas"
   ]
  },
  {
   "cell_type": "markdown",
   "id": "a4623321",
   "metadata": {
    "slideshow": {
     "slide_type": "subslide"
    }
   },
   "source": [
    "Pode-se acessar os valores utilizando as chaves:"
   ]
  },
  {
   "cell_type": "code",
   "execution_count": 136,
   "id": "833bf396",
   "metadata": {
    "slideshow": {
     "slide_type": "fragment"
    }
   },
   "outputs": [
    {
     "name": "stdout",
     "output_type": "stream",
     "text": [
      "(-23.496294, -46.620088)\n"
     ]
    }
   ],
   "source": [
    "print(estacoesAutomaticas['A701'])"
   ]
  },
  {
   "cell_type": "code",
   "execution_count": 137,
   "id": "e78e65c3",
   "metadata": {
    "slideshow": {
     "slide_type": "fragment"
    }
   },
   "outputs": [
    {
     "data": {
      "text/plain": [
       "{'A701': (-23.496294, -46.620088),\n",
       " 'A728': (-23.041668, -45.520841),\n",
       " 'A000': (-23.041668, -45.520841)}"
      ]
     },
     "execution_count": 137,
     "metadata": {},
     "output_type": "execute_result"
    }
   ],
   "source": [
    "estacoesAutomaticas['A000'] = (-23.041668, -45.520841)\n",
    "\n",
    "estacoesAutomaticas"
   ]
  },
  {
   "cell_type": "code",
   "execution_count": 138,
   "id": "906fd695",
   "metadata": {
    "slideshow": {
     "slide_type": "fragment"
    }
   },
   "outputs": [
    {
     "data": {
      "text/plain": [
       "dict_keys(['A701', 'A728', 'A000'])"
      ]
     },
     "execution_count": 138,
     "metadata": {},
     "output_type": "execute_result"
    }
   ],
   "source": [
    "estacoesAutomaticas.keys()"
   ]
  },
  {
   "cell_type": "code",
   "execution_count": 139,
   "id": "3ea018ad",
   "metadata": {
    "slideshow": {
     "slide_type": "subslide"
    }
   },
   "outputs": [
    {
     "data": {
      "text/plain": [
       "['__class__',\n",
       " '__contains__',\n",
       " '__delattr__',\n",
       " '__delitem__',\n",
       " '__dir__',\n",
       " '__doc__',\n",
       " '__eq__',\n",
       " '__format__',\n",
       " '__ge__',\n",
       " '__getattribute__',\n",
       " '__getitem__',\n",
       " '__gt__',\n",
       " '__hash__',\n",
       " '__init__',\n",
       " '__init_subclass__',\n",
       " '__iter__',\n",
       " '__le__',\n",
       " '__len__',\n",
       " '__lt__',\n",
       " '__ne__',\n",
       " '__new__',\n",
       " '__reduce__',\n",
       " '__reduce_ex__',\n",
       " '__repr__',\n",
       " '__reversed__',\n",
       " '__setattr__',\n",
       " '__setitem__',\n",
       " '__sizeof__',\n",
       " '__str__',\n",
       " '__subclasshook__',\n",
       " 'clear',\n",
       " 'copy',\n",
       " 'fromkeys',\n",
       " 'get',\n",
       " 'items',\n",
       " 'keys',\n",
       " 'pop',\n",
       " 'popitem',\n",
       " 'setdefault',\n",
       " 'update',\n",
       " 'values']"
      ]
     },
     "execution_count": 139,
     "metadata": {},
     "output_type": "execute_result"
    }
   ],
   "source": [
    "dir(estacoesAutomaticas) #use dir para consultar métodos disponíveis ou..."
   ]
  },
  {
   "cell_type": "code",
   "execution_count": null,
   "id": "c35307ea",
   "metadata": {
    "slideshow": {
     "slide_type": "subslide"
    }
   },
   "outputs": [],
   "source": [
    "estacoesAutomaticas. #'tab' para consultar métodos disponíveis"
   ]
  },
  {
   "cell_type": "code",
   "execution_count": 141,
   "id": "2b251343",
   "metadata": {
    "slideshow": {
     "slide_type": "subslide"
    }
   },
   "outputs": [
    {
     "data": {
      "text/plain": [
       "dict_items([('A701', (-23.496294, -46.620088)), ('A728', (-23.041668, -45.520841)), ('A000', (-23.041668, -45.520841))])"
      ]
     },
     "execution_count": 141,
     "metadata": {},
     "output_type": "execute_result"
    }
   ],
   "source": [
    "estacoesAutomaticas.items()"
   ]
  },
  {
   "cell_type": "markdown",
   "id": "5dfd636a",
   "metadata": {
    "slideshow": {
     "slide_type": "slide"
    }
   },
   "source": [
    "## Sets\n",
    "\n",
    "Set é uma estrutura de dados ordenadas e imutáveis sem valores duplicados.\n",
    "\n",
    "- criada com {} ou usando set():\n",
    "\n",
    "`cidades = set([...])`"
   ]
  },
  {
   "cell_type": "code",
   "execution_count": 142,
   "id": "e55d58f3",
   "metadata": {
    "slideshow": {
     "slide_type": "subslide"
    }
   },
   "outputs": [
    {
     "data": {
      "text/plain": [
       "{0.1, 1, '3', '3.0'}"
      ]
     },
     "execution_count": 142,
     "metadata": {},
     "output_type": "execute_result"
    }
   ],
   "source": [
    "S = set(['3.0', 1, 0.1, '3', 1.0])\n",
    "S"
   ]
  },
  {
   "cell_type": "markdown",
   "id": "84eaf633",
   "metadata": {
    "slideshow": {
     "slide_type": "fragment"
    }
   },
   "source": [
    "Note que:\n",
    "\n",
    "- a ordem foi alterada automaticamente quando criamos o set\n",
    "\n",
    "- veja o que ocorre com os valores duplicados"
   ]
  },
  {
   "cell_type": "markdown",
   "id": "160b3ffd",
   "metadata": {
    "slideshow": {
     "slide_type": "subslide"
    }
   },
   "source": [
    "Métodos importantes\n",
    "\n",
    "- Podemos usar:\n",
    "    - .copy()\n",
    "    - .add()\n",
    "    - .intersection()\n",
    "    - .difference()\n",
    "    - .clear()\n",
    "\n",
    "- mais informações sobre set: https://www.python-course.eu/python3_sets_frozensets.php"
   ]
  },
  {
   "cell_type": "code",
   "execution_count": 167,
   "id": "9c621252",
   "metadata": {
    "slideshow": {
     "slide_type": "subslide"
    }
   },
   "outputs": [
    {
     "data": {
      "text/plain": [
       "{'Belo Horizonte', 'Florianópolis', 'Rio de Janeiro', 'São Paulo'}"
      ]
     },
     "execution_count": 167,
     "metadata": {},
     "output_type": "execute_result"
    }
   ],
   "source": [
    "# criando um set com nomes de cidades\n",
    "nomes_cidades = set(['São Paulo', 'Rio de Janeiro', 'Florianópolis', 'Belo Horizonte'])\n",
    "nomes_cidades"
   ]
  },
  {
   "cell_type": "markdown",
   "id": "b07fbf20",
   "metadata": {
    "slideshow": {
     "slide_type": "fragment"
    }
   },
   "source": [
    "Podemos também realizar cópias usando o método `.copy()`, porém neste caso é feita uma cópia independente, diferente das listas."
   ]
  },
  {
   "cell_type": "code",
   "execution_count": 168,
   "id": "1fd79cd2",
   "metadata": {
    "slideshow": {
     "slide_type": "fragment"
    }
   },
   "outputs": [
    {
     "data": {
      "text/plain": [
       "{'Belo Horizonte', 'Florianópolis', 'Rio de Janeiro', 'São Paulo'}"
      ]
     },
     "execution_count": 168,
     "metadata": {},
     "output_type": "execute_result"
    }
   ],
   "source": [
    "nomes_cidades_copia = nomes_cidades.copy()\n",
    "\n",
    "nomes_cidades_copia"
   ]
  },
  {
   "cell_type": "markdown",
   "id": "7ea594ac",
   "metadata": {
    "slideshow": {
     "slide_type": "subslide"
    }
   },
   "source": [
    "Podemos adicionar novos elementos a um set e a ordenação é feita automaticamente:"
   ]
  },
  {
   "cell_type": "code",
   "execution_count": 169,
   "id": "01dad6c7",
   "metadata": {
    "slideshow": {
     "slide_type": "fragment"
    }
   },
   "outputs": [
    {
     "name": "stdout",
     "output_type": "stream",
     "text": [
      "{'São Paulo', 'Rio de Janeiro', 'Florianópolis', 'Fortaleza', 'Belo Horizonte'}\n",
      "{'Florianópolis', 'São Paulo', 'Rio de Janeiro', 'Belo Horizonte'}\n"
     ]
    }
   ],
   "source": [
    "# não precisa atribuir à uma variável nova\n",
    "nomes_cidades.add('Fortaleza')\n",
    "\n",
    "print(nomes_cidades)\n",
    "print(nomes_cidades_copia)"
   ]
  },
  {
   "cell_type": "markdown",
   "id": "55048637",
   "metadata": {
    "slideshow": {
     "slide_type": "subslide"
    }
   },
   "source": [
    "Ainda, podemos descobrir qual a diferença e a intersecção entre dois sets:"
   ]
  },
  {
   "cell_type": "code",
   "execution_count": 146,
   "id": "66303787",
   "metadata": {
    "slideshow": {
     "slide_type": "fragment"
    }
   },
   "outputs": [
    {
     "data": {
      "text/plain": [
       "{'Fortaleza'}"
      ]
     },
     "execution_count": 146,
     "metadata": {},
     "output_type": "execute_result"
    }
   ],
   "source": [
    "nomes_cidades.difference(nomes_cidades_copia)"
   ]
  },
  {
   "cell_type": "code",
   "execution_count": 147,
   "id": "81fd9649",
   "metadata": {
    "slideshow": {
     "slide_type": "fragment"
    }
   },
   "outputs": [
    {
     "data": {
      "text/plain": [
       "{'Belo Horizonte', 'Florianópolis', 'Rio de Janeiro', 'São Paulo'}"
      ]
     },
     "execution_count": 147,
     "metadata": {},
     "output_type": "execute_result"
    }
   ],
   "source": [
    "nomes_cidades.intersection(nomes_cidades_copia)"
   ]
  },
  {
   "cell_type": "markdown",
   "id": "3083c33c",
   "metadata": {
    "slideshow": {
     "slide_type": "subslide"
    }
   },
   "source": [
    "Finalmente, podemos limpar um set com:"
   ]
  },
  {
   "cell_type": "code",
   "execution_count": 148,
   "id": "43635133",
   "metadata": {
    "slideshow": {
     "slide_type": "fragment"
    }
   },
   "outputs": [
    {
     "data": {
      "text/plain": [
       "set()"
      ]
     },
     "execution_count": 148,
     "metadata": {},
     "output_type": "execute_result"
    }
   ],
   "source": [
    "nomes_cidades_copia.clear()\n",
    "nomes_cidades_copia"
   ]
  },
  {
   "cell_type": "markdown",
   "id": "d2b2b82b",
   "metadata": {
    "slideshow": {
     "slide_type": "slide"
    }
   },
   "source": [
    "## Blocos de código\n",
    "\n",
    "- indicar bloco de instruções específicos\n",
    "- dentro ou fora de um estrutura de repetição ou função\n",
    "- no caso do python: identação\n",
    "- 4 espaços a esquerda\n",
    "- código legível\n",
    "\n",
    "Um exemplo (real):"
   ]
  },
  {
   "cell_type": "markdown",
   "id": "268fcd2c",
   "metadata": {
    "slideshow": {
     "slide_type": "subslide"
    }
   },
   "source": [
    "```python\n",
    "# dias para plotar\n",
    "dias = ['2020-01-01', '2020-01-02', '2020-01-03']\n",
    "\n",
    "# loop nos dias\n",
    "for dia in dias:\n",
    "    # condição para plotar apenas dados de 2020\n",
    "    if(dia[:5] == '2020'):\n",
    "        print('Ano de 2020')\n",
    "        ds.isel(time=dia).sst.plot.pcolormesh(x='lon', y='lat')\n",
    "```"
   ]
  },
  {
   "cell_type": "code",
   "execution_count": 173,
   "id": "7053fdc1",
   "metadata": {
    "slideshow": {
     "slide_type": "fragment"
    }
   },
   "outputs": [
    {
     "ename": "IndentationError",
     "evalue": "expected an indented block (<ipython-input-173-1cd5984864f6>, line 6)",
     "output_type": "error",
     "traceback": [
      "\u001b[0;36m  File \u001b[0;32m\"<ipython-input-173-1cd5984864f6>\"\u001b[0;36m, line \u001b[0;32m6\u001b[0m\n\u001b[0;31m    print(dia)\u001b[0m\n\u001b[0m    ^\u001b[0m\n\u001b[0;31mIndentationError\u001b[0m\u001b[0;31m:\u001b[0m expected an indented block\n"
     ]
    }
   ],
   "source": [
    "# E se errarmos a identação?\n",
    "dias = ['2020-01-01', '2020-01-02', '2020-01-03']\n",
    "\n",
    "for dia in dias:\n",
    "    if(dia[:5] == '2020'):\n",
    "    print(dia)"
   ]
  },
  {
   "cell_type": "markdown",
   "id": "b48b976e",
   "metadata": {
    "slideshow": {
     "slide_type": "slide"
    }
   },
   "source": [
    "## Estruturas (loops) de repetição\n",
    "\n",
    "- repetições de código\n",
    "- while e for"
   ]
  },
  {
   "cell_type": "markdown",
   "id": "a95749db",
   "metadata": {
    "slideshow": {
     "slide_type": "fragment"
    }
   },
   "source": [
    "```python\n",
    "for item in lista:\n",
    "    # serie de códigos que acontecerão enquanto o for estiver ativado\n",
    "    print('estamos dentro de um loop de repetição for')\n",
    "\n",
    "    while(expressao):\n",
    "        print('estamos dentro de um loop de repetição while')\n",
    "```"
   ]
  },
  {
   "cell_type": "code",
   "execution_count": 176,
   "id": "089badac",
   "metadata": {
    "slideshow": {
     "slide_type": "fragment"
    }
   },
   "outputs": [
    {
     "name": "stdout",
     "output_type": "stream",
     "text": [
      "estamos\n",
      "no\n",
      "segunda\n",
      "encontro\n",
      "do\n",
      "curso\n"
     ]
    }
   ],
   "source": [
    "for x in ['estamos', 'no', 'segunda', 'encontro', 'do', 'curso']:\n",
    "    print(x)"
   ]
  },
  {
   "cell_type": "code",
   "execution_count": 178,
   "id": "3cc5ce4d",
   "metadata": {
    "slideshow": {
     "slide_type": "subslide"
    }
   },
   "outputs": [
    {
     "name": "stdout",
     "output_type": "stream",
     "text": [
      "p\n",
      "y\n",
      "t\n",
      "h\n",
      "o\n",
      "n\n"
     ]
    }
   ],
   "source": [
    "string = 'python'\n",
    "for s in string:\n",
    "    print(s)"
   ]
  },
  {
   "cell_type": "markdown",
   "id": "94f5a6e4",
   "metadata": {
    "slideshow": {
     "slide_type": "fragment"
    }
   },
   "source": [
    "Podemos aplicar um for em uma string!"
   ]
  },
  {
   "cell_type": "markdown",
   "id": "c14ea785",
   "metadata": {
    "slideshow": {
     "slide_type": "slide"
    }
   },
   "source": [
    "- O _while_ executa uma repetição até que uma determinada condição seja verdadeira\n",
    "\n",
    "- O _for_ executa uma repetição baseada em um número de vezes previamente determinado"
   ]
  },
  {
   "cell_type": "markdown",
   "id": "99cb31e3",
   "metadata": {
    "slideshow": {
     "slide_type": "slide"
    }
   },
   "source": [
    "## Desvios condicionais (statement)\n",
    "\n",
    "- testes do tipo \"se ... senão\"\n",
    "- if, elif, else"
   ]
  },
  {
   "cell_type": "markdown",
   "id": "fc28cff1",
   "metadata": {
    "slideshow": {
     "slide_type": "subslide"
    }
   },
   "source": [
    "Sintaxe:\n",
    "\n",
    "```python\n",
    "if expressao:\n",
    "    print('desvio simples')\n",
    "```\n",
    "\n",
    "No caso de desvio composto, precisamos complementar com:\n",
    "\n",
    "```python\n",
    "if expressao:\n",
    "    print('desvio composto')\n",
    "else:\n",
    "    print('expressao não é verdadeira')\n",
    "```\n",
    "\n",
    "Por fim, desvios encadeados:\n",
    "\n",
    "```python\n",
    "if expressao1:\n",
    "    print('expressao 1 foi atendida')\n",
    "elif expressao2:\n",
    "    print('expressao 2 foi atentida, mas somente porque a primeira não foi')\n",
    "else:\n",
    "    print('nenhuma expressao atendida')\n",
    "```\n",
    "    \n",
    "Vamos praticar as combinações, alterando as variáveis expressao1 e expressao2 entre True e False."
   ]
  },
  {
   "cell_type": "code",
   "execution_count": 179,
   "id": "1bd0bd59",
   "metadata": {
    "slideshow": {
     "slide_type": "subslide"
    }
   },
   "outputs": [
    {
     "name": "stdout",
     "output_type": "stream",
     "text": [
      "linha9: nenhuma expressao atendida\n"
     ]
    }
   ],
   "source": [
    "expressao1 = False\n",
    "expressao2 = False\n",
    "\n",
    "if expressao1:\n",
    "    print('linha5: expressao 1 foi atendida')\n",
    "elif expressao2:\n",
    "    print('linha7: expressao 2 foi atentida, mas somente porque a primeira não foi')\n",
    "else:\n",
    "    print('linha9: nenhuma expressao atendida')"
   ]
  },
  {
   "cell_type": "markdown",
   "id": "4abf1d30",
   "metadata": {
    "slideshow": {
     "slide_type": "subslide"
    }
   },
   "source": [
    "Da mesma forma que podemos rodar uma estrutura de repetição em uma string, também podemos utilizar os desvios condicionais para pesquisar por sequências específicas de caracteres:"
   ]
  },
  {
   "cell_type": "code",
   "execution_count": 180,
   "id": "12300b8a",
   "metadata": {
    "slideshow": {
     "slide_type": "fragment"
    }
   },
   "outputs": [
    {
     "name": "stdout",
     "output_type": "stream",
     "text": [
      "Existe\n"
     ]
    }
   ],
   "source": [
    "variavel = 'python'\n",
    "\n",
    "if 'ython' in variavel:\n",
    "    print('Existe')\n",
    "else:\n",
    "    print('Nao existe')"
   ]
  },
  {
   "cell_type": "markdown",
   "id": "82c440a0",
   "metadata": {
    "slideshow": {
     "slide_type": "slide"
    }
   },
   "source": [
    "### Vamos aos exemplos\n",
    "\n",
    "Agora com essas novas ferramentas em mãos, podemos criar exemplos reais de aplicações das estruturas de repetição!\n",
    "\n",
    "Podemos utilizar a estrutura for para iterar em uma sequência de números ou variáveis, para realizar alguma ação:"
   ]
  },
  {
   "cell_type": "code",
   "execution_count": 181,
   "id": "49b6cfe8",
   "metadata": {
    "slideshow": {
     "slide_type": "subslide"
    }
   },
   "outputs": [
    {
     "name": "stdout",
     "output_type": "stream",
     "text": [
      "0\n",
      "1\n",
      "2\n",
      "3\n",
      "4\n",
      "5\n",
      "6\n",
      "7\n",
      "8\n",
      "9\n"
     ]
    }
   ],
   "source": [
    "# nova função nativa: range\n",
    "lista = range(10)\n",
    "\n",
    "for i in lista:\n",
    "    print(i)"
   ]
  },
  {
   "attachments": {
    "image-4.png": {
     "image/png": "[encoded data removed]"
    }
   },
   "cell_type": "markdown",
   "id": "ff76d8de",
   "metadata": {
    "slideshow": {
     "slide_type": "slide"
    }
   },
   "source": [
    "Aplicando os conceitos do encontro passado com os de hoje:\n",
    "\n",
    "![image-4.png](attachment:image-4.png)"
   ]
  },
  {
   "cell_type": "code",
   "execution_count": 182,
   "id": "ef57461f",
   "metadata": {
    "slideshow": {
     "slide_type": "fragment"
    }
   },
   "outputs": [
    {
     "name": "stdout",
     "output_type": "stream",
     "text": [
      "Temperatura da água: 100ºC\n",
      "Hora de adicionar miojo\n"
     ]
    }
   ],
   "source": [
    "ponto_ebulicao = 100 # graus Celsius\n",
    "\n",
    "temperatura_agua = 20 # graus Celsius, temperatura ambiente\n",
    "\n",
    "# enquanto a temperatura da agua for menor ou igual ao ponto de ebulição, continuamos a aquecer\n",
    "# a água.\n",
    "while temperatura_agua < ponto_ebulicao:\n",
    "    # a expressão acima é o equivalente à pergunta do diagrama \"Ferveu?\"\n",
    "    temperatura_agua += 1\n",
    "\n",
    "print(f\"Temperatura da água: {temperatura_agua}ºC\")\n",
    "print('Hora de adicionar miojo')"
   ]
  },
  {
   "attachments": {
    "image.png": {
     "image/png": "[encoded data removed]"
    }
   },
   "cell_type": "markdown",
   "id": "839eed2c",
   "metadata": {
    "slideshow": {
     "slide_type": "subslide"
    }
   },
   "source": [
    "Temperatura da água: 100ºC\n",
    "Hora de adicionar miojo\n",
    "\n",
    "Para o caso de testar se o miojo está no ponto:\n",
    "\n",
    "![image.png](attachment:image.png)"
   ]
  },
  {
   "cell_type": "code",
   "execution_count": 183,
   "id": "b1e9bbc3",
   "metadata": {
    "slideshow": {
     "slide_type": "fragment"
    }
   },
   "outputs": [
    {
     "name": "stdout",
     "output_type": "stream",
     "text": [
      "Já se passaram: 1min\n",
      "Já se passaram: 2min\n",
      "Já se passaram: 3min\n",
      "Miojão tá pronto!\n",
      "Tempo necessário: 180s\n"
     ]
    }
   ],
   "source": [
    "# retomando o exemplo da última aula (do miojo):\n",
    "tempo = 0 # contador\n",
    "miojo_pronto = False\n",
    "\n",
    "while miojo_pronto != True:\n",
    "    # vamos exibir na tela o tempo passando a cada min:\n",
    "    if(((tempo%60) == 0) and ((tempo/60) != 0)):        \n",
    "        print(f\"Já se passaram: {int(tempo/60)}min\")\n",
    "        \n",
    "    if tempo == 180: # 360 igual a segundos em 3min\n",
    "        miojo_pronto = True\n",
    "        print('Miojão tá pronto!')\n",
    "        \n",
    "        # outra forma de exibir mensagens com variáveis\n",
    "        print('Tempo necessário: {}s'.format(tempo))\n",
    "    else:\n",
    "        # adicionamos um segundo no nosso tempo\n",
    "        tempo += 1"
   ]
  },
  {
   "cell_type": "markdown",
   "id": "8a959c0b",
   "metadata": {
    "slideshow": {
     "slide_type": "fragment"
    }
   },
   "source": [
    "Nota:\n",
    "\n",
    "- variáveis auxiliares (tempo)\n",
    "- estruturas de repetição, desvios, iterações, etc"
   ]
  },
  {
   "cell_type": "markdown",
   "id": "5db115ff",
   "metadata": {
    "slideshow": {
     "slide_type": "slide"
    }
   },
   "source": [
    "\n",
    "### Prática\n",
    "\n",
    "Para sairmos um pouco deste monte de teoria, vamos realizar alguns exercícios utilizando o que aprendemos até aqui.\n",
    "\n",
    "**Exercício 1**: calculando quantos números pares temos dentro de uma sequência de números. Siga o algoritmo abaixo:\n",
    "\n",
    "1. crie uma lista de números inteiros aleatórios que você quiser\n",
    "2. selecione a melhor estrutura que aprendemos para iterar nessa lista\n",
    "3. faça testes para checar se o número em questão é par\n",
    "4. caso seja, concatene (+1) a uma variável auxiliar\n",
    "\n",
    "dica 1: use range para iterar em uma lista de 0 a 100, descobrindo quantos pares temos nesta lista.\n",
    "\n",
    "dica 2: Um número será par quando o resto de sua divisão por 2 for 0: use %\n",
    "\n"
   ]
  },
  {
   "cell_type": "code",
   "execution_count": 152,
   "id": "21d5b2b2",
   "metadata": {
    "slideshow": {
     "slide_type": "subslide"
    }
   },
   "outputs": [
    {
     "name": "stdout",
     "output_type": "stream",
     "text": [
      "Na lista: range(0, 100) foram identificados 50 números pares\n"
     ]
    }
   ],
   "source": [
    "# 1. contador\n",
    "contador_auxiliar = 0\n",
    "\n",
    "# 2. criar uma lista\n",
    "numeros = range(100)\n",
    "\n",
    "# 3. iteração na lista\n",
    "for numero in numeros:\n",
    "    # 4. calcular resto\n",
    "    resto = numero%2\n",
    "    \n",
    "    # 5. testar se é par\n",
    "    if resto == 0:\n",
    "        # temos um numero par!\n",
    "        contador_auxiliar += 1\n",
    "\n",
    "# 6. imprime na tela o resultado    \n",
    "print(f\"Na lista: {numeros} foram identificados {contador_auxiliar} números pares\")"
   ]
  },
  {
   "cell_type": "markdown",
   "id": "f7dd1fec",
   "metadata": {
    "slideshow": {
     "slide_type": "slide"
    }
   },
   "source": [
    "**Exercício 2**\n",
    "\n",
    "Tetando fazer algo mais temático, vamos fazer uma série de exercícios em cima de uma lista de cidades do Brasil. Esta lista é fornecida na próxima célula."
   ]
  },
  {
   "cell_type": "code",
   "execution_count": 153,
   "id": "90261d0e",
   "metadata": {
    "slideshow": {
     "slide_type": "subslide"
    }
   },
   "outputs": [
    {
     "name": "stdout",
     "output_type": "stream",
     "text": [
      "--2021-11-23 16:53:41--  https://raw.githubusercontent.com/LuizaPS/MinicursoPython_AbmGeo/main/Dados/lista_de_cidades.txt\n",
      "Resolvendo raw.githubusercontent.com (raw.githubusercontent.com)... 185.199.108.133, 185.199.111.133, 185.199.110.133, ...\n",
      "Conectando-se a raw.githubusercontent.com (raw.githubusercontent.com)|185.199.108.133|:443... conectado.\n",
      "A requisição HTTP foi enviada, aguardando resposta... 404 Not Found\n",
      "2021-11-23 16:53:42 ERRO 404: Not Found.\n",
      "\n"
     ]
    }
   ],
   "source": [
    "# codigo para baixar o arquivo, caso você esteja rodando este notebook no Google Colab\n",
    "!wget --directory-prefix=MinicursoPython_AbmGeo/Dados/ https://raw.githubusercontent.com/LuizaPS/MinicursoPython_AbmGeo/main/Dados/lista_de_cidades.txt"
   ]
  },
  {
   "cell_type": "code",
   "execution_count": 154,
   "id": "58125794",
   "metadata": {
    "slideshow": {
     "slide_type": "subslide"
    }
   },
   "outputs": [
    {
     "data": {
      "text/plain": [
       "'Porto Alegre\\nPorto Alegre\\nSantos\\nMaceió\\nFlorianópolis\\nSão Paulo\\nFernado de Noronha\\nManaus\\nFortaleza\\nMaceió\\nSão Paulo\\nRio de Janeiro\\nMaceió\\nTamandaré\\nPorto Alegre\\nNiterói\\nFortaleza\\nBalneário Camburiu\\nSão Luís\\nCuritiba\\nSão Luís\\nBalneário Camburiu\\nPorto Alegre\\nCuritiba\\nNiterói\\nNiterói\\nBelo Horizonte\\nBelém\\nManaus\\nSão Luís\\nFernado de Noronha\\nGoiânia\\nBelo Horizonte\\nPorto Alegre\\nManaus\\nMaceió\\nSantos\\nTamandaré\\nFlorianópolis\\nMaceió\\nRio de Janeiro\\nVitória\\nFernado de Noronha\\nMaceió\\nBalneário Camburiu\\nFlorianópolis\\nRecife\\nBalneário Camburiu\\nMaceió\\nNiterói\\nVitória\\nBelo Horizonte\\nBelo Horizonte\\nSantos\\nSão Luís\\nCuritiba\\nRio de Janeiro\\nTamandaré\\nRecife\\nBelo Horizonte\\nFernado de Noronha\\nRecife\\nBelo Horizonte\\nCampinas\\nManaus\\nFlorianópolis\\nSantos\\nManaus\\nNiterói\\nTamandaré\\nTamandaré\\nBalneário Camburiu\\nCuritiba\\nRio de Janeiro\\nSantos\\nCuritiba\\nFlorianópolis\\nPorto Alegre\\nFernado de Noronha\\nFlorianópolis\\nManaus\\nTamandaré\\nTamandaré\\nRio de Janeiro\\nRio de Janeiro\\nGoiânia\\nFortaleza\\nTamandaré\\nNiterói\\nFortaleza\\nBalneário Camburiu\\nBelém\\nRio de Janeiro\\nCampinas\\nManaus\\nSão Luís\\nFortaleza\\nBalneário Camburiu\\nCuritiba\\nFortaleza\\nBelém\\nFernado de Noronha\\nNiterói\\nVitória\\nFortaleza\\nFernado de Noronha\\nRecife\\nFortaleza\\nPorto Alegre\\nMaceió\\nGoiânia\\nPorto Alegre\\nManaus\\nSão Luís\\nRio de Janeiro\\nFortaleza\\nSão Paulo\\nSantos\\nVitória\\nBalneário Camburiu\\nBelo Horizonte\\nRecife\\nNiterói\\nSantos\\nCampinas\\nFlorianópolis\\nRio de Janeiro\\nRecife\\nRecife\\nSão Paulo\\nManaus\\nBelo Horizonte\\nFernado de Noronha\\nBelém\\nVitória\\nSão Paulo\\nSão Paulo\\nSão Paulo\\nBelo Horizonte\\nSantos\\nGoiânia\\nManaus\\nVitória\\nBalneário Camburiu\\nGoiânia\\nBelém\\nCuritiba\\nVitória\\nBelo Horizonte\\nBelém\\nFernado de Noronha\\nVitória\\nGoiânia\\nBelém\\nTamandaré\\nFlorianópolis\\nGoiânia\\nSantos\\nGoiânia\\nCampinas\\nCuritiba\\nPorto Alegre\\nSão Luís\\nSão Paulo\\nSantos\\nFortaleza\\nManaus\\nFlorianópolis\\nBelo Horizonte\\nGoiânia\\nFortaleza\\nSão Paulo\\nCampinas\\nRecife\\nMaceió\\nSão Luís\\nFernado de Noronha\\nMaceió\\nCampinas\\nRecife\\nTamandaré\\nTamandaré\\nFlorianópolis\\nNiterói\\nCampinas\\nCuritiba\\nVitória\\nBalneário Camburiu\\nCampinas\\nPorto Alegre\\nCampinas\\nCuritiba\\nVitória\\nFlorianópolis\\nRio de Janeiro\\nNiterói\\nCuritiba\\nMaceió\\nSão Paulo\\nCampinas\\nFernado de Noronha\\nGoiânia\\nSão Luís\\nBelém\\nCampinas\\nBalneário Camburiu\\nRio de Janeiro\\nSão Paulo\\nRecife\\nBelém\\nSão Luís\\nNiterói\\nRecife\\nBelém\\nSantos\\nVitória\\nBelém\\nSão Luís\\nPorto Alegre\\nGoiânia\\n'"
      ]
     },
     "execution_count": 154,
     "metadata": {},
     "output_type": "execute_result"
    }
   ],
   "source": [
    "# lista aleatória de organismos\n",
    "\n",
    "# vamos abrir um arquivo txt usando a função nativa do python open(). Caso tenha dúvidas de como essa função trabalha, abra uma célula nova e digite open? e rode. Um \n",
    "# pequeno manual da função abrirá para você\n",
    "lista_cidades = open('MinicursoPython_AbmGeo/Dados/lista_de_cidades.txt', 'r').read()\n",
    "\n",
    "# infelizmente, a função open nos retorna toda uma lista como uma unica string. \n",
    "lista_cidades"
   ]
  },
  {
   "cell_type": "code",
   "execution_count": 155,
   "id": "b64252a2",
   "metadata": {
    "scrolled": true,
    "slideshow": {
     "slide_type": "subslide"
    }
   },
   "outputs": [
    {
     "data": {
      "text/plain": [
       "['Porto Alegre',\n",
       " 'Porto Alegre',\n",
       " 'Santos',\n",
       " 'Maceió',\n",
       " 'Florianópolis',\n",
       " 'São Paulo',\n",
       " 'Fernado de Noronha',\n",
       " 'Manaus',\n",
       " 'Fortaleza',\n",
       " 'Maceió',\n",
       " 'São Paulo',\n",
       " 'Rio de Janeiro',\n",
       " 'Maceió',\n",
       " 'Tamandaré',\n",
       " 'Porto Alegre',\n",
       " 'Niterói',\n",
       " 'Fortaleza',\n",
       " 'Balneário Camburiu',\n",
       " 'São Luís',\n",
       " 'Curitiba',\n",
       " 'São Luís',\n",
       " 'Balneário Camburiu',\n",
       " 'Porto Alegre',\n",
       " 'Curitiba',\n",
       " 'Niterói',\n",
       " 'Niterói',\n",
       " 'Belo Horizonte',\n",
       " 'Belém',\n",
       " 'Manaus',\n",
       " 'São Luís',\n",
       " 'Fernado de Noronha',\n",
       " 'Goiânia',\n",
       " 'Belo Horizonte',\n",
       " 'Porto Alegre',\n",
       " 'Manaus',\n",
       " 'Maceió',\n",
       " 'Santos',\n",
       " 'Tamandaré',\n",
       " 'Florianópolis',\n",
       " 'Maceió',\n",
       " 'Rio de Janeiro',\n",
       " 'Vitória',\n",
       " 'Fernado de Noronha',\n",
       " 'Maceió',\n",
       " 'Balneário Camburiu',\n",
       " 'Florianópolis',\n",
       " 'Recife',\n",
       " 'Balneário Camburiu',\n",
       " 'Maceió',\n",
       " 'Niterói',\n",
       " 'Vitória',\n",
       " 'Belo Horizonte',\n",
       " 'Belo Horizonte',\n",
       " 'Santos',\n",
       " 'São Luís',\n",
       " 'Curitiba',\n",
       " 'Rio de Janeiro',\n",
       " 'Tamandaré',\n",
       " 'Recife',\n",
       " 'Belo Horizonte',\n",
       " 'Fernado de Noronha',\n",
       " 'Recife',\n",
       " 'Belo Horizonte',\n",
       " 'Campinas',\n",
       " 'Manaus',\n",
       " 'Florianópolis',\n",
       " 'Santos',\n",
       " 'Manaus',\n",
       " 'Niterói',\n",
       " 'Tamandaré',\n",
       " 'Tamandaré',\n",
       " 'Balneário Camburiu',\n",
       " 'Curitiba',\n",
       " 'Rio de Janeiro',\n",
       " 'Santos',\n",
       " 'Curitiba',\n",
       " 'Florianópolis',\n",
       " 'Porto Alegre',\n",
       " 'Fernado de Noronha',\n",
       " 'Florianópolis',\n",
       " 'Manaus',\n",
       " 'Tamandaré',\n",
       " 'Tamandaré',\n",
       " 'Rio de Janeiro',\n",
       " 'Rio de Janeiro',\n",
       " 'Goiânia',\n",
       " 'Fortaleza',\n",
       " 'Tamandaré',\n",
       " 'Niterói',\n",
       " 'Fortaleza',\n",
       " 'Balneário Camburiu',\n",
       " 'Belém',\n",
       " 'Rio de Janeiro',\n",
       " 'Campinas',\n",
       " 'Manaus',\n",
       " 'São Luís',\n",
       " 'Fortaleza',\n",
       " 'Balneário Camburiu',\n",
       " 'Curitiba',\n",
       " 'Fortaleza',\n",
       " 'Belém',\n",
       " 'Fernado de Noronha',\n",
       " 'Niterói',\n",
       " 'Vitória',\n",
       " 'Fortaleza',\n",
       " 'Fernado de Noronha',\n",
       " 'Recife',\n",
       " 'Fortaleza',\n",
       " 'Porto Alegre',\n",
       " 'Maceió',\n",
       " 'Goiânia',\n",
       " 'Porto Alegre',\n",
       " 'Manaus',\n",
       " 'São Luís',\n",
       " 'Rio de Janeiro',\n",
       " 'Fortaleza',\n",
       " 'São Paulo',\n",
       " 'Santos',\n",
       " 'Vitória',\n",
       " 'Balneário Camburiu',\n",
       " 'Belo Horizonte',\n",
       " 'Recife',\n",
       " 'Niterói',\n",
       " 'Santos',\n",
       " 'Campinas',\n",
       " 'Florianópolis',\n",
       " 'Rio de Janeiro',\n",
       " 'Recife',\n",
       " 'Recife',\n",
       " 'São Paulo',\n",
       " 'Manaus',\n",
       " 'Belo Horizonte',\n",
       " 'Fernado de Noronha',\n",
       " 'Belém',\n",
       " 'Vitória',\n",
       " 'São Paulo',\n",
       " 'São Paulo',\n",
       " 'São Paulo',\n",
       " 'Belo Horizonte',\n",
       " 'Santos',\n",
       " 'Goiânia',\n",
       " 'Manaus',\n",
       " 'Vitória',\n",
       " 'Balneário Camburiu',\n",
       " 'Goiânia',\n",
       " 'Belém',\n",
       " 'Curitiba',\n",
       " 'Vitória',\n",
       " 'Belo Horizonte',\n",
       " 'Belém',\n",
       " 'Fernado de Noronha',\n",
       " 'Vitória',\n",
       " 'Goiânia',\n",
       " 'Belém',\n",
       " 'Tamandaré',\n",
       " 'Florianópolis',\n",
       " 'Goiânia',\n",
       " 'Santos',\n",
       " 'Goiânia',\n",
       " 'Campinas',\n",
       " 'Curitiba',\n",
       " 'Porto Alegre',\n",
       " 'São Luís',\n",
       " 'São Paulo',\n",
       " 'Santos',\n",
       " 'Fortaleza',\n",
       " 'Manaus',\n",
       " 'Florianópolis',\n",
       " 'Belo Horizonte',\n",
       " 'Goiânia',\n",
       " 'Fortaleza',\n",
       " 'São Paulo',\n",
       " 'Campinas',\n",
       " 'Recife',\n",
       " 'Maceió',\n",
       " 'São Luís',\n",
       " 'Fernado de Noronha',\n",
       " 'Maceió',\n",
       " 'Campinas',\n",
       " 'Recife',\n",
       " 'Tamandaré',\n",
       " 'Tamandaré',\n",
       " 'Florianópolis',\n",
       " 'Niterói',\n",
       " 'Campinas',\n",
       " 'Curitiba',\n",
       " 'Vitória',\n",
       " 'Balneário Camburiu',\n",
       " 'Campinas',\n",
       " 'Porto Alegre',\n",
       " 'Campinas',\n",
       " 'Curitiba',\n",
       " 'Vitória',\n",
       " 'Florianópolis',\n",
       " 'Rio de Janeiro',\n",
       " 'Niterói',\n",
       " 'Curitiba',\n",
       " 'Maceió',\n",
       " 'São Paulo',\n",
       " 'Campinas',\n",
       " 'Fernado de Noronha',\n",
       " 'Goiânia',\n",
       " 'São Luís',\n",
       " 'Belém',\n",
       " 'Campinas',\n",
       " 'Balneário Camburiu',\n",
       " 'Rio de Janeiro',\n",
       " 'São Paulo',\n",
       " 'Recife',\n",
       " 'Belém',\n",
       " 'São Luís',\n",
       " 'Niterói',\n",
       " 'Recife',\n",
       " 'Belém',\n",
       " 'Santos',\n",
       " 'Vitória',\n",
       " 'Belém',\n",
       " 'São Luís',\n",
       " 'Porto Alegre',\n",
       " 'Goiânia',\n",
       " '']"
      ]
     },
     "execution_count": 155,
     "metadata": {},
     "output_type": "execute_result"
    }
   ],
   "source": [
    "# resolvemos recortando essa string com o método .split() usando um caracter específico\n",
    "lista_cidades = lista_cidades.split('\\n')\n",
    "\n",
    "# neste caso, \\n representa uma quebra de linha \n",
    "\n",
    "lista_cidades"
   ]
  },
  {
   "cell_type": "markdown",
   "id": "7e005e7d",
   "metadata": {
    "slideshow": {
     "slide_type": "subslide"
    }
   },
   "source": [
    "\n",
    "\n",
    "Com essa lista, faça:\n",
    "\n",
    "Item 1:\n",
    "\n",
    "1. selecione uma cidade a sua escolha. Use set() para facilitar a escolha da cidade\n",
    "2. conte quantas vezes essa cidade ocorre dentro da lista. Use alguma estrutura de repetição inicialmente"
   ]
  },
  {
   "cell_type": "markdown",
   "id": "3d6664e1",
   "metadata": {
    "slideshow": {
     "slide_type": "subslide"
    }
   },
   "source": [
    "Avançando um pouco mais:\n",
    "\n",
    "Item 2:\n",
    "\n",
    "1. selecione mais de uma cidade\n",
    "2. faça a contagem, mas armazenando em um dicionário, onde cada cidade é uma chave\n",
    "\n",
    "Item 3:\n",
    "\n",
    "1. selecione todas as cidades. Use set() para facilitar\n",
    "2. conte todas as cidades e armazene em um dicionário. Use o método .count() das listas para facilitar"
   ]
  }
 ],
 "metadata": {
  "celltoolbar": "Slideshow",
  "kernelspec": {
   "display_name": "Python 3",
   "language": "python",
   "name": "python3"
  },
  "language_info": {
   "codemirror_mode": {
    "name": "ipython",
    "version": 3
   },
   "file_extension": ".py",
   "mimetype": "text/x-python",
   "name": "python",
   "nbconvert_exporter": "python",
   "pygments_lexer": "ipython3",
   "version": "3.8.3"
  }
 },
 "nbformat": 4,
 "nbformat_minor": 5
}
